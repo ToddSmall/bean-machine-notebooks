{
 "cells": [
  {
   "cell_type": "code",
   "execution_count": 1,
   "metadata": {},
   "outputs": [
    {
     "name": "stdout",
     "output_type": "stream",
     "text": [
      "Sun Mar  6 21:34:28 PST 2022\n"
     ]
    }
   ],
   "source": [
    "!date"
   ]
  },
  {
   "cell_type": "code",
   "execution_count": 2,
   "metadata": {},
   "outputs": [],
   "source": [
    "import altair\n",
    "import beanmachine.ppl as bm\n",
    "import numpy as np\n",
    "import pandas as pd\n",
    "import torch.distributions as dist\n",
    "from torch import tensor"
   ]
  },
  {
   "cell_type": "code",
   "execution_count": 3,
   "metadata": {},
   "outputs": [
    {
     "data": {
      "text/plain": [
       "RendererRegistry.enable('mimetype')"
      ]
     },
     "execution_count": 3,
     "metadata": {},
     "output_type": "execute_result"
    }
   ],
   "source": [
    "altair.renderers.enable(\"mimetype\")"
   ]
  },
  {
   "cell_type": "code",
   "execution_count": 4,
   "metadata": {},
   "outputs": [],
   "source": [
    "reproduction_rate_rate = 10.0"
   ]
  },
  {
   "cell_type": "markdown",
   "metadata": {},
   "source": [
    "$$\n",
    "f(x; \\lambda) = \n",
    "\\begin{cases}\n",
    "\\lambda e^{-\\lambda x}, & x \\ge 0 \\\\\n",
    "0, & x \\lt 0\n",
    "\\end{cases}\n",
    "$$"
   ]
  },
  {
   "cell_type": "code",
   "execution_count": 5,
   "metadata": {},
   "outputs": [],
   "source": [
    "@bm.random_variable\n",
    "def reproduction_rate():\n",
    "    return dist.Exponential(rate=reproduction_rate_rate)"
   ]
  },
  {
   "cell_type": "code",
   "execution_count": 6,
   "metadata": {},
   "outputs": [],
   "source": [
    "pointer = reproduction_rate()\n",
    "assert isinstance(pointer, bm.RVIdentifier)"
   ]
  },
  {
   "cell_type": "code",
   "execution_count": 7,
   "metadata": {},
   "outputs": [],
   "source": [
    "@bm.random_variable\n",
    "def num_new(num_current: int):\n",
    "    return dist.Poisson(reproduction_rate() * num_current)"
   ]
  },
  {
   "cell_type": "code",
   "execution_count": 8,
   "metadata": {},
   "outputs": [],
   "source": [
    "num_init = 1_087_980\n",
    "\n",
    "observations = {num_new(num_init): tensor(238154)}"
   ]
  },
  {
   "cell_type": "code",
   "execution_count": 9,
   "metadata": {},
   "outputs": [
    {
     "name": "stderr",
     "output_type": "stream",
     "text": [
      "Samples collected: 100%|██████████| 10000/10000 [00:06<00:00, 1604.30it/s]\n",
      "Samples collected: 100%|██████████| 10000/10000 [00:08<00:00, 1204.21it/s]\n",
      "Samples collected: 100%|██████████| 10000/10000 [00:09<00:00, 1016.99it/s]\n",
      "Samples collected: 100%|██████████| 10000/10000 [00:07<00:00, 1418.04it/s]\n"
     ]
    }
   ],
   "source": [
    "samples = bm.CompositionalInference().infer(\n",
    "    queries=[reproduction_rate()],\n",
    "    observations=observations,\n",
    "    num_samples=7000,\n",
    "    num_adaptive_samples=3000,\n",
    ")"
   ]
  },
  {
   "cell_type": "code",
   "execution_count": 10,
   "metadata": {},
   "outputs": [
    {
     "data": {
      "text/plain": [
       "beanmachine.ppl.inference.monte_carlo_samples.MonteCarloSamples"
      ]
     },
     "execution_count": 10,
     "metadata": {},
     "output_type": "execute_result"
    }
   ],
   "source": [
    "type(samples)"
   ]
  },
  {
   "cell_type": "code",
   "execution_count": 11,
   "metadata": {},
   "outputs": [
    {
     "data": {
      "text/plain": [
       "[RVIdentifier(wrapper=<function reproduction_rate at 0x107a88dc0>, arguments=())]"
      ]
     },
     "execution_count": 11,
     "metadata": {},
     "output_type": "execute_result"
    }
   ],
   "source": [
    "list(samples.keys())"
   ]
  },
  {
   "cell_type": "code",
   "execution_count": 12,
   "metadata": {},
   "outputs": [],
   "source": [
    "reproduction_rate_samples = samples[reproduction_rate()][0]"
   ]
  },
  {
   "cell_type": "code",
   "execution_count": 13,
   "metadata": {},
   "outputs": [
    {
     "data": {
      "text/plain": [
       "tensor([0.2185, 0.2196, 0.2186,  ..., 0.2185, 0.2188, 0.2193])"
      ]
     },
     "execution_count": 13,
     "metadata": {},
     "output_type": "execute_result"
    }
   ],
   "source": [
    "reproduction_rate_samples"
   ]
  },
  {
   "cell_type": "code",
   "execution_count": 14,
   "metadata": {},
   "outputs": [
    {
     "data": {
      "text/plain": [
       "torch.Size([7000])"
      ]
     },
     "execution_count": 14,
     "metadata": {},
     "output_type": "execute_result"
    }
   ],
   "source": [
    "reproduction_rate_samples.shape"
   ]
  },
  {
   "cell_type": "code",
   "execution_count": 15,
   "metadata": {},
   "outputs": [],
   "source": [
    "h, edges = np.histogram(reproduction_rate_samples, bins=\"auto\", density=True)"
   ]
  },
  {
   "cell_type": "code",
   "execution_count": 16,
   "metadata": {},
   "outputs": [
    {
     "data": {
      "application/vnd.vegalite.v4+json": {
       "$schema": "https://vega.github.io/schema/vega-lite/v4.17.0.json",
       "config": {
        "view": {
         "continuousHeight": 300,
         "continuousWidth": 400
        }
       },
       "data": {
        "name": "data-6b89e4dcd093c76b8cdd902d70bab749"
       },
       "datasets": {
        "data-6b89e4dcd093c76b8cdd902d70bab749": [
         {
          "density": 4.435336836191798,
          "x1": 0.21711942553520203,
          "x2": 0.21718384325504303
         },
         {
          "density": 0,
          "x1": 0.21718384325504303,
          "x2": 0.21724826097488403
         },
         {
          "density": 2.217668418095899,
          "x1": 0.21724826097488403,
          "x2": 0.21731267869472504
         },
         {
          "density": 0,
          "x1": 0.21731267869472504,
          "x2": 0.21737709641456604
         },
         {
          "density": 2.217155543808643,
          "x1": 0.21737709641456604,
          "x2": 0.21744152903556824
         },
         {
          "density": 6.653005254287697,
          "x1": 0.21744152903556824,
          "x2": 0.21750594675540924
         },
         {
          "density": 8.870673672383596,
          "x1": 0.21750594675540924,
          "x2": 0.21757036447525024
         },
         {
          "density": 8.870673672383596,
          "x1": 0.21757036447525024,
          "x2": 0.21763478219509125
         },
         {
          "density": 13.306010508575394,
          "x1": 0.21763478219509125,
          "x2": 0.21769919991493225
         },
         {
          "density": 13.306010508575394,
          "x1": 0.21769919991493225,
          "x2": 0.21776361763477325
         },
         {
          "density": 46.57103678001388,
          "x1": 0.21776361763477325,
          "x2": 0.21782803535461426
         },
         {
          "density": 42.13569994382208,
          "x1": 0.21782803535461426,
          "x2": 0.21789245307445526
         },
         {
          "density": 97.57741039621956,
          "x1": 0.21789245307445526,
          "x2": 0.21795687079429626
         },
         {
          "density": 110.85777719043213,
          "x1": 0.21795687079429626,
          "x2": 0.21802130341529846
         },
         {
          "density": 170.7604681933842,
          "x1": 0.21802130341529846,
          "x2": 0.21808572113513947
         },
         {
          "density": 204.0254944648227,
          "x1": 0.21808572113513947,
          "x2": 0.21815013885498047
         },
         {
          "density": 272.77321542579557,
          "x1": 0.21815013885498047,
          "x2": 0.21821455657482147
         },
         {
          "density": 328.214925878193,
          "x1": 0.21821455657482147,
          "x2": 0.21827897429466248
         },
         {
          "density": 357.04461531343975,
          "x1": 0.21827897429466248,
          "x2": 0.21834339201450348
         },
         {
          "density": 467.9280362182347,
          "x1": 0.21834339201450348,
          "x2": 0.21840780973434448
         },
         {
          "density": 558.8524413601666,
          "x1": 0.21840780973434448,
          "x2": 0.21847222745418549
         },
         {
          "density": 654.0608854235496,
          "x1": 0.21847222745418549,
          "x2": 0.21853666007518768
         },
         {
          "density": 707.4362253725917,
          "x1": 0.21853666007518768,
          "x2": 0.2186010777950287
         },
         {
          "density": 787.2722884240442,
          "x1": 0.2186010777950287,
          "x2": 0.2186654955148697
         },
         {
          "density": 747.354256898318,
          "x1": 0.2186654955148697,
          "x2": 0.2187299132347107
         },
         {
          "density": 831.6256567859622,
          "x1": 0.2187299132347107,
          "x2": 0.2187943309545517
         },
         {
          "density": 836.0609936221539,
          "x1": 0.2187943309545517,
          "x2": 0.2188587486743927
         },
         {
          "density": 887.0673672383597,
          "x1": 0.2188587486743927,
          "x2": 0.2189231663942337
         },
         {
          "density": 924.7677303459899,
          "x1": 0.2189231663942337,
          "x2": 0.2189875841140747
         },
         {
          "density": 851.5846725488252,
          "x1": 0.2189875841140747,
          "x2": 0.2190520018339157
         },
         {
          "density": 804.8274624025373,
          "x1": 0.2190520018339157,
          "x2": 0.2191164344549179
         },
         {
          "density": 671.9535306830574,
          "x1": 0.2191164344549179,
          "x2": 0.2191808521747589
         },
         {
          "density": 694.1302148640164,
          "x1": 0.2191808521747589,
          "x2": 0.21924526989459991
         },
         {
          "density": 625.3824939030435,
          "x1": 0.21924526989459991,
          "x2": 0.21930968761444092
         },
         {
          "density": 487.8870519810977,
          "x1": 0.21930968761444092,
          "x2": 0.21937410533428192
         },
         {
          "density": 507.8460677439609,
          "x1": 0.21937410533428192,
          "x2": 0.21943852305412292
         },
         {
          "density": 430.2276731106044,
          "x1": 0.21943852305412292,
          "x2": 0.21950294077396393
         },
         {
          "density": 343.73860480486434,
          "x1": 0.21950294077396393,
          "x2": 0.21956735849380493
         },
         {
          "density": 292.6645317827409,
          "x1": 0.21956735849380493,
          "x2": 0.21963179111480713
         },
         {
          "density": 155.23678926671292,
          "x1": 0.21963179111480713,
          "x2": 0.21969620883464813
         },
         {
          "density": 170.7604681933842,
          "x1": 0.21969620883464813,
          "x2": 0.21976062655448914
         },
         {
          "density": 113.10108932289086,
          "x1": 0.21976062655448914,
          "x2": 0.21982504427433014
         },
         {
          "density": 90.92440514193186,
          "x1": 0.21982504427433014,
          "x2": 0.21988946199417114
         },
         {
          "density": 51.00637361620568,
          "x1": 0.21988946199417114,
          "x2": 0.21995387971401215
         },
         {
          "density": 37.70036310763028,
          "x1": 0.21995387971401215,
          "x2": 0.22001829743385315
         },
         {
          "density": 46.57103678001388,
          "x1": 0.22001829743385315,
          "x2": 0.22008271515369415
         },
         {
          "density": 19.95901576286309,
          "x1": 0.22008271515369415,
          "x2": 0.22014713287353516
         },
         {
          "density": 13.302933262851857,
          "x1": 0.22014713287353516,
          "x2": 0.22021156549453735
         },
         {
          "density": 6.653005254287697,
          "x1": 0.22021156549453735,
          "x2": 0.22027598321437836
         },
         {
          "density": 8.870673672383596,
          "x1": 0.22027598321437836,
          "x2": 0.22034040093421936
         },
         {
          "density": 2.217668418095899,
          "x1": 0.22034040093421936,
          "x2": 0.22040481865406036
         },
         {
          "density": 4.435336836191798,
          "x1": 0.22040481865406036,
          "x2": 0.22046923637390137
         }
        ]
       },
       "encoding": {
        "x": {
         "field": "x1",
         "title": "Reproduction rate",
         "type": "quantitative"
        },
        "x2": {
         "field": "x2"
        },
        "y": {
         "field": "density",
         "title": "Probability density",
         "type": "quantitative"
        }
       },
       "mark": "bar",
       "selection": {
        "selector001": {
         "bind": "scales",
         "encodings": [
          "x",
          "y"
         ],
         "type": "interval"
        }
       }
      },
      "text/plain": [
       "<VegaLite 4 object>\n",
       "\n",
       "If you see this message, it means the renderer has not been properly enabled\n",
       "for the frontend that you are using. For more information, see\n",
       "https://altair-viz.github.io/user_guide/troubleshooting.html\n"
      ]
     },
     "execution_count": 16,
     "metadata": {},
     "output_type": "execute_result"
    }
   ],
   "source": [
    "altair.Chart(\n",
    "    pd.DataFrame({\"x1\": edges[:-1], \"x2\": edges[1:], \"density\": h})\n",
    ").mark_bar().encode(\n",
    "    x=altair.X(\"x1\", title=\"Reproduction rate\"),\n",
    "    x2=\"x2\",\n",
    "    y=altair.Y(\"density\", title=\"Probability density\")\n",
    ").interactive()\n"
   ]
  },
  {
   "cell_type": "code",
   "execution_count": 17,
   "metadata": {},
   "outputs": [],
   "source": [
    "@bm.random_variable\n",
    "def foo(i):\n",
    "    return dist.Normal(0., 1.)"
   ]
  },
  {
   "cell_type": "code",
   "execution_count": 18,
   "metadata": {},
   "outputs": [
    {
     "data": {
      "text/plain": [
       "RVIdentifier(wrapper=<function foo at 0x11ee5b0d0>, arguments=(0,))"
      ]
     },
     "execution_count": 18,
     "metadata": {},
     "output_type": "execute_result"
    }
   ],
   "source": [
    "foo(0)"
   ]
  },
  {
   "cell_type": "code",
   "execution_count": 19,
   "metadata": {},
   "outputs": [
    {
     "data": {
      "text/plain": [
       "RVIdentifier(wrapper=<function foo at 0x11ee5b0d0>, arguments=(1,))"
      ]
     },
     "execution_count": 19,
     "metadata": {},
     "output_type": "execute_result"
    }
   ],
   "source": [
    "foo(1)"
   ]
  },
  {
   "cell_type": "code",
   "execution_count": null,
   "metadata": {},
   "outputs": [],
   "source": []
  }
 ],
 "metadata": {
  "interpreter": {
   "hash": "3d2ca491e92607d77156843c86e2071aef014ecb450759d6dfdf762a056e2829"
  },
  "kernelspec": {
   "display_name": "Python 3.9.10 ('python-bean-machine': venv)",
   "language": "python",
   "name": "python3"
  },
  "language_info": {
   "codemirror_mode": {
    "name": "ipython",
    "version": 3
   },
   "file_extension": ".py",
   "mimetype": "text/x-python",
   "name": "python",
   "nbconvert_exporter": "python",
   "pygments_lexer": "ipython3",
   "version": "3.9.10"
  },
  "orig_nbformat": 4
 },
 "nbformat": 4,
 "nbformat_minor": 2
}
