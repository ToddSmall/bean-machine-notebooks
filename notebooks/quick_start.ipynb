{
 "cells": [
  {
   "cell_type": "code",
   "execution_count": 1,
   "metadata": {},
   "outputs": [
    {
     "name": "stdout",
     "output_type": "stream",
     "text": [
      "Sun Feb 20 16:26:10 PST 2022\n"
     ]
    }
   ],
   "source": [
    "!date"
   ]
  },
  {
   "cell_type": "code",
   "execution_count": 2,
   "metadata": {},
   "outputs": [],
   "source": [
    "import altair\n",
    "import beanmachine.ppl as bm\n",
    "import numpy as np\n",
    "import pandas as pd\n",
    "import torch.distributions as dist\n",
    "from torch import tensor"
   ]
  },
  {
   "cell_type": "code",
   "execution_count": 4,
   "metadata": {},
   "outputs": [],
   "source": [
    "reproduction_rate_rate = 10.0"
   ]
  },
  {
   "cell_type": "markdown",
   "metadata": {},
   "source": [
    "$$\n",
    "f(x; \\lambda) = \n",
    "\\begin{cases}\n",
    "\\lambda e^{-\\lambda x}, & x \\ge 0 \\\\\n",
    "0, & x \\lt 0\n",
    "\\end{cases}\n",
    "$$"
   ]
  },
  {
   "cell_type": "code",
   "execution_count": 5,
   "metadata": {},
   "outputs": [],
   "source": [
    "@bm.random_variable\n",
    "def reproduction_rate():\n",
    "    return dist.Exponential(rate=reproduction_rate_rate)"
   ]
  },
  {
   "cell_type": "code",
   "execution_count": 28,
   "metadata": {},
   "outputs": [],
   "source": [
    "pointer = reproduction_rate()\n",
    "assert isinstance(pointer, bm.RVIdentifier)"
   ]
  },
  {
   "cell_type": "code",
   "execution_count": 6,
   "metadata": {},
   "outputs": [],
   "source": [
    "@bm.random_variable\n",
    "def num_new(num_current: int):\n",
    "    return dist.Poisson(reproduction_rate() * num_current)"
   ]
  },
  {
   "cell_type": "code",
   "execution_count": 8,
   "metadata": {},
   "outputs": [],
   "source": [
    "num_init = 1_087_980\n",
    "\n",
    "observations = {num_new(num_init): tensor(238154)}"
   ]
  },
  {
   "cell_type": "code",
   "execution_count": 10,
   "metadata": {},
   "outputs": [
    {
     "name": "stderr",
     "output_type": "stream",
     "text": [
      "Samples collected: 100%|██████████| 10000/10000 [00:05<00:00, 1911.07it/s]\n",
      "Samples collected: 100%|██████████| 10000/10000 [00:05<00:00, 1968.43it/s]\n",
      "Samples collected: 100%|██████████| 10000/10000 [00:04<00:00, 2173.07it/s]\n",
      "Samples collected: 100%|██████████| 10000/10000 [00:04<00:00, 2065.62it/s]\n"
     ]
    }
   ],
   "source": [
    "samples = bm.CompositionalInference().infer(\n",
    "    queries=[reproduction_rate()],\n",
    "    observations=observations,\n",
    "    num_samples=7000,\n",
    "    num_adaptive_samples=3000,\n",
    ")"
   ]
  },
  {
   "cell_type": "code",
   "execution_count": 12,
   "metadata": {},
   "outputs": [
    {
     "data": {
      "text/plain": [
       "beanmachine.ppl.inference.monte_carlo_samples.MonteCarloSamples"
      ]
     },
     "execution_count": 12,
     "metadata": {},
     "output_type": "execute_result"
    }
   ],
   "source": [
    "type(samples)"
   ]
  },
  {
   "cell_type": "code",
   "execution_count": 14,
   "metadata": {},
   "outputs": [
    {
     "data": {
      "text/plain": [
       "[RVIdentifier(wrapper=<function reproduction_rate at 0x120aeb310>, arguments=())]"
      ]
     },
     "execution_count": 14,
     "metadata": {},
     "output_type": "execute_result"
    }
   ],
   "source": [
    "list(samples.keys())"
   ]
  },
  {
   "cell_type": "code",
   "execution_count": 15,
   "metadata": {},
   "outputs": [],
   "source": [
    "reproduction_rate_samples = samples[reproduction_rate()][0]"
   ]
  },
  {
   "cell_type": "code",
   "execution_count": 16,
   "metadata": {},
   "outputs": [
    {
     "data": {
      "text/plain": [
       "tensor([0.2185, 0.2187, 0.2193,  ..., 0.2187, 0.2190, 0.2184])"
      ]
     },
     "execution_count": 16,
     "metadata": {},
     "output_type": "execute_result"
    }
   ],
   "source": [
    "reproduction_rate_samples"
   ]
  },
  {
   "cell_type": "code",
   "execution_count": 26,
   "metadata": {},
   "outputs": [
    {
     "data": {
      "text/plain": [
       "torch.Size([7000])"
      ]
     },
     "execution_count": 26,
     "metadata": {},
     "output_type": "execute_result"
    }
   ],
   "source": [
    "reproduction_rate_samples.shape"
   ]
  },
  {
   "cell_type": "code",
   "execution_count": 18,
   "metadata": {},
   "outputs": [],
   "source": [
    "h, edges = np.histogram(reproduction_rate_samples, bins=\"auto\", density=True)"
   ]
  },
  {
   "cell_type": "code",
   "execution_count": 25,
   "metadata": {},
   "outputs": [
    {
     "data": {
      "text/html": [
       "\n",
       "<div id=\"altair-viz-9849f10582a64869aeeae25800221d63\"></div>\n",
       "<script type=\"text/javascript\">\n",
       "  var VEGA_DEBUG = (typeof VEGA_DEBUG == \"undefined\") ? {} : VEGA_DEBUG;\n",
       "  (function(spec, embedOpt){\n",
       "    let outputDiv = document.currentScript.previousElementSibling;\n",
       "    if (outputDiv.id !== \"altair-viz-9849f10582a64869aeeae25800221d63\") {\n",
       "      outputDiv = document.getElementById(\"altair-viz-9849f10582a64869aeeae25800221d63\");\n",
       "    }\n",
       "    const paths = {\n",
       "      \"vega\": \"https://cdn.jsdelivr.net/npm//vega@5?noext\",\n",
       "      \"vega-lib\": \"https://cdn.jsdelivr.net/npm//vega-lib?noext\",\n",
       "      \"vega-lite\": \"https://cdn.jsdelivr.net/npm//vega-lite@4.17.0?noext\",\n",
       "      \"vega-embed\": \"https://cdn.jsdelivr.net/npm//vega-embed@6?noext\",\n",
       "    };\n",
       "\n",
       "    function maybeLoadScript(lib, version) {\n",
       "      var key = `${lib.replace(\"-\", \"\")}_version`;\n",
       "      return (VEGA_DEBUG[key] == version) ?\n",
       "        Promise.resolve(paths[lib]) :\n",
       "        new Promise(function(resolve, reject) {\n",
       "          var s = document.createElement('script');\n",
       "          document.getElementsByTagName(\"head\")[0].appendChild(s);\n",
       "          s.async = true;\n",
       "          s.onload = () => {\n",
       "            VEGA_DEBUG[key] = version;\n",
       "            return resolve(paths[lib]);\n",
       "          };\n",
       "          s.onerror = () => reject(`Error loading script: ${paths[lib]}`);\n",
       "          s.src = paths[lib];\n",
       "        });\n",
       "    }\n",
       "\n",
       "    function showError(err) {\n",
       "      outputDiv.innerHTML = `<div class=\"error\" style=\"color:red;\">${err}</div>`;\n",
       "      throw err;\n",
       "    }\n",
       "\n",
       "    function displayChart(vegaEmbed) {\n",
       "      vegaEmbed(outputDiv, spec, embedOpt)\n",
       "        .catch(err => showError(`Javascript Error: ${err.message}<br>This usually means there's a typo in your chart specification. See the javascript console for the full traceback.`));\n",
       "    }\n",
       "\n",
       "    if(typeof define === \"function\" && define.amd) {\n",
       "      requirejs.config({paths});\n",
       "      require([\"vega-embed\"], displayChart, err => showError(`Error loading script: ${err.message}`));\n",
       "    } else {\n",
       "      maybeLoadScript(\"vega\", \"5\")\n",
       "        .then(() => maybeLoadScript(\"vega-lite\", \"4.17.0\"))\n",
       "        .then(() => maybeLoadScript(\"vega-embed\", \"6\"))\n",
       "        .catch(showError)\n",
       "        .then(() => displayChart(vegaEmbed));\n",
       "    }\n",
       "  })({\"config\": {\"view\": {\"continuousWidth\": 400, \"continuousHeight\": 300}}, \"data\": {\"name\": \"data-a53721bf936e5772153417a88dbe6d60\"}, \"mark\": \"bar\", \"encoding\": {\"x\": {\"field\": \"x1\", \"title\": \"Reproduction rate\", \"type\": \"quantitative\"}, \"x2\": {\"field\": \"x2\"}, \"y\": {\"field\": \"density\", \"title\": \"Probability density\", \"type\": \"quantitative\"}}, \"selection\": {\"selector001\": {\"type\": \"interval\", \"bind\": \"scales\", \"encodings\": [\"x\", \"y\"]}}, \"$schema\": \"https://vega.github.io/schema/vega-lite/v4.17.0.json\", \"datasets\": {\"data-a53721bf936e5772153417a88dbe6d60\": [{\"x1\": 0.21707279980182648, \"x2\": 0.21713533997535706, \"density\": 4.568492052146091}, {\"x1\": 0.21713533997535706, \"x2\": 0.21719789505004883, \"density\": 0.0}, {\"x1\": 0.21719789505004883, \"x2\": 0.2172604352235794, \"density\": 0.0}, {\"x1\": 0.2172604352235794, \"x2\": 0.21732299029827118, \"density\": 11.418509494317021}, {\"x1\": 0.21732299029827118, \"x2\": 0.21738553047180176, \"density\": 2.2842460260730455}, {\"x1\": 0.21738553047180176, \"x2\": 0.21744807064533234, \"density\": 6.8527380782191365}, {\"x1\": 0.21744807064533234, \"x2\": 0.2175106257200241, \"density\": 9.134807595453617}, {\"x1\": 0.2175106257200241, \"x2\": 0.2175731658935547, \"density\": 2.2842460260730455}, {\"x1\": 0.2175731658935547, \"x2\": 0.21763572096824646, \"density\": 25.120720887497445}, {\"x1\": 0.21763572096824646, \"x2\": 0.21769826114177704, \"density\": 25.1267062868035}, {\"x1\": 0.21769826114177704, \"x2\": 0.21776080131530762, \"density\": 31.979444365022633}, {\"x1\": 0.21776080131530762, \"x2\": 0.2178233563899994, \"density\": 47.95773987613149}, {\"x1\": 0.2178233563899994, \"x2\": 0.21788589656352997, \"density\": 31.979444365022633}, {\"x1\": 0.21788589656352997, \"x2\": 0.21794845163822174, \"density\": 66.22735506703873}, {\"x1\": 0.21794845163822174, \"x2\": 0.21801099181175232, \"density\": 118.78079335579837}, {\"x1\": 0.21801099181175232, \"x2\": 0.2180735319852829, \"density\": 125.6335314340175}, {\"x1\": 0.2180735319852829, \"x2\": 0.21813608705997467, \"density\": 239.78869938065748}, {\"x1\": 0.21813608705997467, \"x2\": 0.21819862723350525, \"density\": 219.28761850301237}, {\"x1\": 0.21819862723350525, \"x2\": 0.21826118230819702, \"density\": 308.2997563465596}, {\"x1\": 0.21826118230819702, \"x2\": 0.2183237224817276, \"density\": 388.32182443241766}, {\"x1\": 0.2183237224817276, \"x2\": 0.21838626265525818, \"density\": 365.4793641716872}, {\"x1\": 0.21838626265525818, \"x2\": 0.21844881772994995, \"density\": 506.98182154767574}, {\"x1\": 0.21844881772994995, \"x2\": 0.21851135790348053, \"density\": 555.0717843357501}, {\"x1\": 0.21851135790348053, \"x2\": 0.2185739129781723, \"density\": 726.2172038385626}, {\"x1\": 0.2185739129781723, \"x2\": 0.21863645315170288, \"density\": 710.4005141087172}, {\"x1\": 0.21863645315170288, \"x2\": 0.21869899332523346, \"density\": 774.3594028387623}, {\"x1\": 0.21869899332523346, \"x2\": 0.21876154839992523, \"density\": 828.9837892874158}, {\"x1\": 0.21876154839992523, \"x2\": 0.2188240885734558, \"density\": 868.0134899077573}, {\"x1\": 0.2188240885734558, \"x2\": 0.21888664364814758, \"density\": 806.1467702987817}, {\"x1\": 0.21888664364814758, \"x2\": 0.21894918382167816, \"density\": 879.4347200381225}, {\"x1\": 0.21894918382167816, \"x2\": 0.21901172399520874, \"density\": 934.2566246638755}, {\"x1\": 0.21901172399520874, \"x2\": 0.2190742790699005, \"density\": 831.2674911862791}, {\"x1\": 0.2190742790699005, \"x2\": 0.2191368192434311, \"density\": 792.6333710473467}, {\"x1\": 0.2191368192434311, \"x2\": 0.21919937431812286, \"density\": 792.4445589056014}, {\"x1\": 0.21919937431812286, \"x2\": 0.21926191449165344, \"density\": 619.0306730657953}, {\"x1\": 0.21926191449165344, \"x2\": 0.21932445466518402, \"density\": 623.5991651179414}, {\"x1\": 0.21932445466518402, \"x2\": 0.2193870097398758, \"density\": 543.5210519294902}, {\"x1\": 0.2193870097398758, \"x2\": 0.21944954991340637, \"density\": 479.6916654753395}, {\"x1\": 0.21944954991340637, \"x2\": 0.21951210498809814, \"density\": 388.2293228067788}, {\"x1\": 0.21951210498809814, \"x2\": 0.21957464516162872, \"density\": 294.6677373634229}, {\"x1\": 0.21957464516162872, \"x2\": 0.2196371853351593, \"density\": 237.56158671159673}, {\"x1\": 0.2196371853351593, \"x2\": 0.21969974040985107, \"density\": 262.6257183692915}, {\"x1\": 0.21969974040985107, \"x2\": 0.21976228058338165, \"density\": 150.76023772082098}, {\"x1\": 0.21976228058338165, \"x2\": 0.21982483565807343, \"density\": 107.33398924658}, {\"x1\": 0.21982483565807343, \"x2\": 0.219887375831604, \"density\": 63.95888873004527}, {\"x1\": 0.219887375831604, \"x2\": 0.21994991600513458, \"density\": 47.96916654753396}, {\"x1\": 0.21994991600513458, \"x2\": 0.22001247107982635, \"density\": 36.53923038181447}, {\"x1\": 0.22001247107982635, \"x2\": 0.22007501125335693, \"density\": 47.96916654753396}, {\"x1\": 0.22007501125335693, \"x2\": 0.2201375663280487, \"density\": 20.553317089770637}, {\"x1\": 0.2201375663280487, \"x2\": 0.22020010650157928, \"density\": 11.421230130365226}, {\"x1\": 0.22020010650157928, \"x2\": 0.22026264667510986, \"density\": 2.2842460260730455}, {\"x1\": 0.22026264667510986, \"x2\": 0.22032520174980164, \"density\": 6.851105696590213}, {\"x1\": 0.22032520174980164, \"x2\": 0.22038774192333221, \"density\": 4.568492052146091}, {\"x1\": 0.22038774192333221, \"x2\": 0.220450296998024, \"density\": 0.0}, {\"x1\": 0.220450296998024, \"x2\": 0.22051283717155457, \"density\": 2.2842460260730455}]}}, {\"mode\": \"vega-lite\"});\n",
       "</script>"
      ],
      "text/plain": [
       "alt.Chart(...)"
      ]
     },
     "execution_count": 25,
     "metadata": {},
     "output_type": "execute_result"
    }
   ],
   "source": [
    "altair.Chart(\n",
    "    pd.DataFrame({\"x1\": edges[:-1], \"x2\": edges[1:], \"density\": h})\n",
    ").mark_bar().encode(\n",
    "    x=altair.X(\"x1\", title=\"Reproduction rate\"),\n",
    "    x2=\"x2\",\n",
    "    y=altair.Y(\"density\", title=\"Probability density\")\n",
    ").interactive()\n"
   ]
  },
  {
   "cell_type": "code",
   "execution_count": 37,
   "metadata": {},
   "outputs": [],
   "source": [
    "@bm.random_variable\n",
    "def foo(i):\n",
    "    return dist.Normal(0., 1.)"
   ]
  },
  {
   "cell_type": "code",
   "execution_count": 38,
   "metadata": {},
   "outputs": [
    {
     "data": {
      "text/plain": [
       "RVIdentifier(wrapper=<function foo at 0x121e3b5e0>, arguments=(0,))"
      ]
     },
     "execution_count": 38,
     "metadata": {},
     "output_type": "execute_result"
    }
   ],
   "source": [
    "foo(0)"
   ]
  },
  {
   "cell_type": "code",
   "execution_count": 39,
   "metadata": {},
   "outputs": [
    {
     "data": {
      "text/plain": [
       "RVIdentifier(wrapper=<function foo at 0x121e3b5e0>, arguments=(1,))"
      ]
     },
     "execution_count": 39,
     "metadata": {},
     "output_type": "execute_result"
    }
   ],
   "source": [
    "foo(1)"
   ]
  },
  {
   "cell_type": "code",
   "execution_count": null,
   "metadata": {},
   "outputs": [],
   "source": []
  }
 ],
 "metadata": {
  "interpreter": {
   "hash": "3d2ca491e92607d77156843c86e2071aef014ecb450759d6dfdf762a056e2829"
  },
  "kernelspec": {
   "display_name": "Python 3.9.10 ('python-bean-machine': venv)",
   "language": "python",
   "name": "python3"
  },
  "language_info": {
   "codemirror_mode": {
    "name": "ipython",
    "version": 3
   },
   "file_extension": ".py",
   "mimetype": "text/x-python",
   "name": "python",
   "nbconvert_exporter": "python",
   "pygments_lexer": "ipython3",
   "version": "3.9.10"
  },
  "orig_nbformat": 4
 },
 "nbformat": 4,
 "nbformat_minor": 2
}
