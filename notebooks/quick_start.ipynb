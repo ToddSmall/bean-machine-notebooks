{
 "cells": [
  {
   "cell_type": "code",
   "execution_count": 1,
   "metadata": {},
   "outputs": [
    {
     "name": "stdout",
     "output_type": "stream",
     "text": [
      "Sun Mar  6 21:39:00 PST 2022\n"
     ]
    }
   ],
   "source": [
    "!date"
   ]
  },
  {
   "cell_type": "code",
   "execution_count": 2,
   "metadata": {},
   "outputs": [],
   "source": [
    "import altair\n",
    "import beanmachine.ppl as bm\n",
    "import numpy as np\n",
    "import pandas as pd\n",
    "import torch.distributions as dist\n",
    "from torch import tensor"
   ]
  },
  {
   "cell_type": "code",
   "execution_count": 3,
   "metadata": {},
   "outputs": [],
   "source": [
    "reproduction_rate_rate = 10.0"
   ]
  },
  {
   "cell_type": "markdown",
   "metadata": {},
   "source": [
    "$$\n",
    "f(x; \\lambda) = \n",
    "\\begin{cases}\n",
    "\\lambda e^{-\\lambda x}, & x \\ge 0 \\\\\n",
    "0, & x \\lt 0\n",
    "\\end{cases}\n",
    "$$"
   ]
  },
  {
   "cell_type": "code",
   "execution_count": 4,
   "metadata": {},
   "outputs": [],
   "source": [
    "@bm.random_variable\n",
    "def reproduction_rate():\n",
    "    return dist.Exponential(rate=reproduction_rate_rate)"
   ]
  },
  {
   "cell_type": "code",
   "execution_count": 5,
   "metadata": {},
   "outputs": [],
   "source": [
    "pointer = reproduction_rate()\n",
    "assert isinstance(pointer, bm.RVIdentifier)"
   ]
  },
  {
   "cell_type": "code",
   "execution_count": 6,
   "metadata": {},
   "outputs": [],
   "source": [
    "@bm.random_variable\n",
    "def num_new(num_current: int):\n",
    "    return dist.Poisson(reproduction_rate() * num_current)"
   ]
  },
  {
   "cell_type": "code",
   "execution_count": 7,
   "metadata": {},
   "outputs": [],
   "source": [
    "num_init = 1_087_980\n",
    "\n",
    "observations = {num_new(num_init): tensor(238154)}"
   ]
  },
  {
   "cell_type": "code",
   "execution_count": 8,
   "metadata": {},
   "outputs": [
    {
     "name": "stderr",
     "output_type": "stream",
     "text": [
      "Samples collected: 100%|██████████| 10000/10000 [00:08<00:00, 1144.52it/s]\n",
      "Samples collected: 100%|██████████| 10000/10000 [00:06<00:00, 1448.04it/s]\n",
      "Samples collected: 100%|██████████| 10000/10000 [00:05<00:00, 1740.60it/s]\n",
      "Samples collected: 100%|██████████| 10000/10000 [00:06<00:00, 1549.43it/s]\n"
     ]
    }
   ],
   "source": [
    "samples = bm.CompositionalInference().infer(\n",
    "    queries=[reproduction_rate()],\n",
    "    observations=observations,\n",
    "    num_samples=7000,\n",
    "    num_adaptive_samples=3000,\n",
    ")"
   ]
  },
  {
   "cell_type": "code",
   "execution_count": 9,
   "metadata": {},
   "outputs": [
    {
     "data": {
      "text/plain": [
       "beanmachine.ppl.inference.monte_carlo_samples.MonteCarloSamples"
      ]
     },
     "execution_count": 9,
     "metadata": {},
     "output_type": "execute_result"
    }
   ],
   "source": [
    "type(samples)"
   ]
  },
  {
   "cell_type": "code",
   "execution_count": 10,
   "metadata": {},
   "outputs": [
    {
     "data": {
      "text/plain": [
       "[RVIdentifier(wrapper=<function reproduction_rate at 0x1269afca0>, arguments=())]"
      ]
     },
     "execution_count": 10,
     "metadata": {},
     "output_type": "execute_result"
    }
   ],
   "source": [
    "list(samples.keys())"
   ]
  },
  {
   "cell_type": "code",
   "execution_count": 11,
   "metadata": {},
   "outputs": [],
   "source": [
    "reproduction_rate_samples = samples[reproduction_rate()][0]"
   ]
  },
  {
   "cell_type": "code",
   "execution_count": 12,
   "metadata": {},
   "outputs": [
    {
     "data": {
      "text/plain": [
       "tensor([0.2187, 0.2193, 0.2193,  ..., 0.2185, 0.2195, 0.2190])"
      ]
     },
     "execution_count": 12,
     "metadata": {},
     "output_type": "execute_result"
    }
   ],
   "source": [
    "reproduction_rate_samples"
   ]
  },
  {
   "cell_type": "code",
   "execution_count": 13,
   "metadata": {},
   "outputs": [
    {
     "data": {
      "text/plain": [
       "torch.Size([7000])"
      ]
     },
     "execution_count": 13,
     "metadata": {},
     "output_type": "execute_result"
    }
   ],
   "source": [
    "reproduction_rate_samples.shape"
   ]
  },
  {
   "cell_type": "code",
   "execution_count": 14,
   "metadata": {},
   "outputs": [],
   "source": [
    "h, edges = np.histogram(reproduction_rate_samples, bins=\"auto\", density=True)"
   ]
  },
  {
   "cell_type": "code",
   "execution_count": 15,
   "metadata": {},
   "outputs": [
    {
     "data": {
      "text/html": [
       "\n",
       "<div id=\"altair-viz-efafee57f2eb4620a9a43abaecc1304a\"></div>\n",
       "<script type=\"text/javascript\">\n",
       "  var VEGA_DEBUG = (typeof VEGA_DEBUG == \"undefined\") ? {} : VEGA_DEBUG;\n",
       "  (function(spec, embedOpt){\n",
       "    let outputDiv = document.currentScript.previousElementSibling;\n",
       "    if (outputDiv.id !== \"altair-viz-efafee57f2eb4620a9a43abaecc1304a\") {\n",
       "      outputDiv = document.getElementById(\"altair-viz-efafee57f2eb4620a9a43abaecc1304a\");\n",
       "    }\n",
       "    const paths = {\n",
       "      \"vega\": \"https://cdn.jsdelivr.net/npm//vega@5?noext\",\n",
       "      \"vega-lib\": \"https://cdn.jsdelivr.net/npm//vega-lib?noext\",\n",
       "      \"vega-lite\": \"https://cdn.jsdelivr.net/npm//vega-lite@4.17.0?noext\",\n",
       "      \"vega-embed\": \"https://cdn.jsdelivr.net/npm//vega-embed@6?noext\",\n",
       "    };\n",
       "\n",
       "    function maybeLoadScript(lib, version) {\n",
       "      var key = `${lib.replace(\"-\", \"\")}_version`;\n",
       "      return (VEGA_DEBUG[key] == version) ?\n",
       "        Promise.resolve(paths[lib]) :\n",
       "        new Promise(function(resolve, reject) {\n",
       "          var s = document.createElement('script');\n",
       "          document.getElementsByTagName(\"head\")[0].appendChild(s);\n",
       "          s.async = true;\n",
       "          s.onload = () => {\n",
       "            VEGA_DEBUG[key] = version;\n",
       "            return resolve(paths[lib]);\n",
       "          };\n",
       "          s.onerror = () => reject(`Error loading script: ${paths[lib]}`);\n",
       "          s.src = paths[lib];\n",
       "        });\n",
       "    }\n",
       "\n",
       "    function showError(err) {\n",
       "      outputDiv.innerHTML = `<div class=\"error\" style=\"color:red;\">${err}</div>`;\n",
       "      throw err;\n",
       "    }\n",
       "\n",
       "    function displayChart(vegaEmbed) {\n",
       "      vegaEmbed(outputDiv, spec, embedOpt)\n",
       "        .catch(err => showError(`Javascript Error: ${err.message}<br>This usually means there's a typo in your chart specification. See the javascript console for the full traceback.`));\n",
       "    }\n",
       "\n",
       "    if(typeof define === \"function\" && define.amd) {\n",
       "      requirejs.config({paths});\n",
       "      require([\"vega-embed\"], displayChart, err => showError(`Error loading script: ${err.message}`));\n",
       "    } else {\n",
       "      maybeLoadScript(\"vega\", \"5\")\n",
       "        .then(() => maybeLoadScript(\"vega-lite\", \"4.17.0\"))\n",
       "        .then(() => maybeLoadScript(\"vega-embed\", \"6\"))\n",
       "        .catch(showError)\n",
       "        .then(() => displayChart(vegaEmbed));\n",
       "    }\n",
       "  })({\"config\": {\"view\": {\"continuousWidth\": 400, \"continuousHeight\": 300}}, \"data\": {\"name\": \"data-e70aa268822885282b360b0fd6ea1d9a\"}, \"mark\": \"bar\", \"encoding\": {\"x\": {\"field\": \"x1\", \"title\": \"Reproduction rate\", \"type\": \"quantitative\"}, \"x2\": {\"field\": \"x2\"}, \"y\": {\"field\": \"density\", \"title\": \"Probability density\", \"type\": \"quantitative\"}}, \"selection\": {\"selector001\": {\"type\": \"interval\", \"bind\": \"scales\", \"encodings\": [\"x\", \"y\"]}}, \"$schema\": \"https://vega.github.io/schema/vega-lite/v4.17.0.json\", \"datasets\": {\"data-e70aa268822885282b360b0fd6ea1d9a\": [{\"x1\": 0.21745449304580688, \"x2\": 0.21751613914966583, \"density\": 11.586875237404605}, {\"x1\": 0.21751613914966583, \"x2\": 0.21757780015468597, \"density\": 2.3168150245114965}, {\"x1\": 0.21757780015468597, \"x2\": 0.21763944625854492, \"density\": 13.904250284885528}, {\"x1\": 0.21763944625854492, \"x2\": 0.21770109236240387, \"density\": 39.39537580717566}, {\"x1\": 0.21770109236240387, \"x2\": 0.217762753367424, \"density\": 23.168150245114962}, {\"x1\": 0.217762753367424, \"x2\": 0.21782439947128296, \"density\": 48.664875997099344}, {\"x1\": 0.21782439947128296, \"x2\": 0.2178860455751419, \"density\": 74.15600151938948}, {\"x1\": 0.2178860455751419, \"x2\": 0.21794769167900085, \"density\": 55.61700113954211}, {\"x1\": 0.21794769167900085, \"x2\": 0.218009352684021, \"density\": 92.67260098045985}, {\"x1\": 0.218009352684021, \"x2\": 0.21807099878787994, \"density\": 150.6293780862599}, {\"x1\": 0.21807099878787994, \"x2\": 0.2181326448917389, \"density\": 169.16837846610724}, {\"x1\": 0.2181326448917389, \"x2\": 0.21819430589675903, \"density\": 210.83016723054615}, {\"x1\": 0.21819430589675903, \"x2\": 0.21825595200061798, \"density\": 296.6240060775579}, {\"x1\": 0.21825595200061798, \"x2\": 0.21831759810447693, \"density\": 410.17538340412307}, {\"x1\": 0.21831759810447693, \"x2\": 0.21837925910949707, \"density\": 426.2939645101153}, {\"x1\": 0.21837925910949707, \"x2\": 0.21844090521335602, \"density\": 530.678885873131}, {\"x1\": 0.21844090521335602, \"x2\": 0.21850255131721497, \"density\": 516.7746355882455}, {\"x1\": 0.21850255131721497, \"x2\": 0.2185642123222351, \"density\": 706.6285824760063}, {\"x1\": 0.2185642123222351, \"x2\": 0.21862585842609406, \"density\": 699.8472643392382}, {\"x1\": 0.21862585842609406, \"x2\": 0.218687504529953, \"density\": 880.6025180427501}, {\"x1\": 0.218687504529953, \"x2\": 0.21874916553497314, \"density\": 857.2215590692537}, {\"x1\": 0.21874916553497314, \"x2\": 0.2188108116388321, \"density\": 871.3330178528264}, {\"x1\": 0.2188108116388321, \"x2\": 0.21887245774269104, \"density\": 836.5723921406126}, {\"x1\": 0.21887245774269104, \"x2\": 0.21893411874771118, \"density\": 940.6268999516675}, {\"x1\": 0.21893411874771118, \"x2\": 0.21899576485157013, \"density\": 838.8897671880935}, {\"x1\": 0.21899576485157013, \"x2\": 0.21905741095542908, \"density\": 769.3685157636659}, {\"x1\": 0.21905741095542908, \"x2\": 0.21911905705928802, \"density\": 808.7638915708415}, {\"x1\": 0.21911905705928802, \"x2\": 0.21918071806430817, \"density\": 794.6675534074432}, {\"x1\": 0.21918071806430817, \"x2\": 0.21924236416816711, \"density\": 704.4820144342001}, {\"x1\": 0.21924236416816711, \"x2\": 0.21930401027202606, \"density\": 581.6611369177112}, {\"x1\": 0.21930401027202606, \"x2\": 0.2193656712770462, \"density\": 558.3524209072706}, {\"x1\": 0.2193656712770462, \"x2\": 0.21942731738090515, \"density\": 472.74450968610796}, {\"x1\": 0.21942731738090515, \"x2\": 0.2194889634847641, \"density\": 414.8101334990849}, {\"x1\": 0.2194889634847641, \"x2\": 0.21955062448978424, \"density\": 287.28506303942555}, {\"x1\": 0.21955062448978424, \"x2\": 0.2196122705936432, \"density\": 285.03713084015334}, {\"x1\": 0.2196122705936432, \"x2\": 0.21967391669750214, \"density\": 208.56375427328294}, {\"x1\": 0.21967391669750214, \"x2\": 0.21973557770252228, \"density\": 155.22660664227027}, {\"x1\": 0.21973557770252228, \"x2\": 0.21979722380638123, \"density\": 148.31200303877895}, {\"x1\": 0.21979722380638123, \"x2\": 0.21985886991024017, \"density\": 83.42550170931317}, {\"x1\": 0.21985886991024017, \"x2\": 0.21992051601409912, \"density\": 69.52125142442765}, {\"x1\": 0.21992051601409912, \"x2\": 0.21998217701911926, \"density\": 57.9203756127874}, {\"x1\": 0.21998217701911926, \"x2\": 0.2200438231229782, \"density\": 48.664875997099344}, {\"x1\": 0.2200438231229782, \"x2\": 0.22010546922683716, \"density\": 27.808500569771056}, {\"x1\": 0.22010546922683716, \"x2\": 0.2201671302318573, \"density\": 16.217705171580473}, {\"x1\": 0.2201671302318573, \"x2\": 0.22022877633571625, \"density\": 9.269500189923685}, {\"x1\": 0.22022877633571625, \"x2\": 0.2202904224395752, \"density\": 11.586875237404605}, {\"x1\": 0.2202904224395752, \"x2\": 0.22035208344459534, \"density\": 0.0}, {\"x1\": 0.22035208344459534, \"x2\": 0.22041372954845428, \"density\": 2.317375047480921}]}}, {\"mode\": \"vega-lite\"});\n",
       "</script>"
      ],
      "text/plain": [
       "alt.Chart(...)"
      ]
     },
     "execution_count": 15,
     "metadata": {},
     "output_type": "execute_result"
    }
   ],
   "source": [
    "altair.Chart(\n",
    "    pd.DataFrame({\"x1\": edges[:-1], \"x2\": edges[1:], \"density\": h})\n",
    ").mark_bar().encode(\n",
    "    x=altair.X(\"x1\", title=\"Reproduction rate\"),\n",
    "    x2=\"x2\",\n",
    "    y=altair.Y(\"density\", title=\"Probability density\")\n",
    ").interactive()\n"
   ]
  },
  {
   "cell_type": "code",
   "execution_count": 16,
   "metadata": {},
   "outputs": [],
   "source": [
    "@bm.random_variable\n",
    "def foo(i):\n",
    "    return dist.Normal(0., 1.)"
   ]
  },
  {
   "cell_type": "code",
   "execution_count": 17,
   "metadata": {},
   "outputs": [
    {
     "data": {
      "text/plain": [
       "RVIdentifier(wrapper=<function foo at 0x1269caf70>, arguments=(0,))"
      ]
     },
     "execution_count": 17,
     "metadata": {},
     "output_type": "execute_result"
    }
   ],
   "source": [
    "foo(0)"
   ]
  },
  {
   "cell_type": "code",
   "execution_count": 18,
   "metadata": {},
   "outputs": [
    {
     "data": {
      "text/plain": [
       "RVIdentifier(wrapper=<function foo at 0x1269caf70>, arguments=(1,))"
      ]
     },
     "execution_count": 18,
     "metadata": {},
     "output_type": "execute_result"
    }
   ],
   "source": [
    "foo(1)"
   ]
  },
  {
   "cell_type": "code",
   "execution_count": null,
   "metadata": {},
   "outputs": [],
   "source": []
  }
 ],
 "metadata": {
  "interpreter": {
   "hash": "3d2ca491e92607d77156843c86e2071aef014ecb450759d6dfdf762a056e2829"
  },
  "kernelspec": {
   "display_name": "Python 3.9.10 ('python-bean-machine': venv)",
   "language": "python",
   "name": "python3"
  },
  "language_info": {
   "codemirror_mode": {
    "name": "ipython",
    "version": 3
   },
   "file_extension": ".py",
   "mimetype": "text/x-python",
   "name": "python",
   "nbconvert_exporter": "python",
   "pygments_lexer": "ipython3",
   "version": "3.9.10"
  },
  "orig_nbformat": 4
 },
 "nbformat": 4,
 "nbformat_minor": 2
}
