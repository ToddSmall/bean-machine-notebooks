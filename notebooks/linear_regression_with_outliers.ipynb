{
 "cells": [
  {
   "cell_type": "code",
   "execution_count": 1,
   "metadata": {},
   "outputs": [
    {
     "name": "stdout",
     "output_type": "stream",
     "text": [
      "Sun Mar  6 19:13:14 PST 2022\n"
     ]
    }
   ],
   "source": [
    "!date"
   ]
  },
  {
   "cell_type": "markdown",
   "metadata": {},
   "source": [
    "This notebook uses [Stan](https://mc-stan.org) and [Bean Machine](https://beanmachine.org) to fit a linear model with outliers. The model and data are taken from Jake VanderPlas's post [Frequentism and Bayesianism II: When Results Differ](http://jakevdp.github.io/blog/2014/06/06/frequentism-and-bayesianism-2-when-results-differ/). Specifically, this is [Example #2](http://jakevdp.github.io/blog/2014/06/06/frequentism-and-bayesianism-2-when-results-differ/#Example-#2:-Linear-Fit-with-Outliers) from his post. There's also a very nice discussion of Bayesian modeling for handling outliers in §8.3 of [Data Analysis - A Bayesian Tutorial](https://www.goodreads.com/book/show/1430545.Data_Analysis) by D.S. Sivia. Finally, this discussion is complementary to the official Bean Machine [Robust Linear Regression](https://beanmachine.org/docs/tutorials/#robust-linear-regression) tutorial.\n",
    "\n",
    "Points are outliers with probability $\\theta$. All observations are drawn from a normal distribution. For points that are not outliers, we use the estimated observation error $e_i$ as the standard deviation. For outliers, we use a constant standard deviation $\\sigma_o$, which is estimated as part of the model. The model description below, $z$ is a latent indicator for whether or not the point is an outlier.\n",
    "\n",
    "$$\n",
    "\\begin{align}\n",
    "\\theta & \\sim \\mathrm{Beta}(2, 5) \\\\\n",
    "\\sigma_o & \\sim \\mathrm{Gamma}(2, 2) \\\\\n",
    "\\beta_0 & \\sim \\mathcal{N}(0, 10) \\\\\n",
    "\\beta_1 & \\sim \\mathcal{N}(0, 10) \\\\\n",
    "z & \\sim \\mathrm{Bernouilli}(\\theta) \\\\\n",
    "y & \\sim \\mathcal{N}(\\beta_0 + \\beta_1 x, \\sigma_{z[i]}) \\\\\n",
    "\\end{align}\n",
    "$$\n",
    "\n",
    "where\n",
    "\n",
    "$$\n",
    "\\sigma_{z[i]} =\n",
    "    \\begin{cases}\n",
    "    e_i, & z_i = 0 \\\\\n",
    "    \\sigma_o, & z_i = 1 \\\\\n",
    "    \\end{cases}\n",
    "$$\n",
    "\n",
    "For both the Bean Machine and Stan implementations, we marginalize out the latent discrete variable $z$, as described [here](https://mc-stan.org/docs/2_29/stan-users-guide/summing-out-the-responsibility-parameter.html) in the Stan documentation.\n",
    "\n",
    "$$\n",
    "p(y_i | \\theta, \\beta_0, \\beta_1, \\sigma_o) = \\theta \\mathcal{N}(\\beta_0 + \\beta_1 x_i, \\sigma_o) + (1 - \\theta) \\mathcal{N}(\\beta_0 + \\beta_1 x_i, e_i)\n",
    "$$"
   ]
  },
  {
   "cell_type": "code",
   "execution_count": 2,
   "metadata": {},
   "outputs": [],
   "source": [
    "# This is needed for PyStan to run in a Jupyter notebook\n",
    "import nest_asyncio\n",
    "nest_asyncio.apply()"
   ]
  },
  {
   "cell_type": "code",
   "execution_count": 3,
   "metadata": {},
   "outputs": [],
   "source": [
    "import altair\n",
    "import beanmachine.ppl as bm\n",
    "import numpy as np\n",
    "import pandas as pd\n",
    "import stan\n",
    "import torch\n",
    "import torch.distributions as dist\n",
    "from beanmachine.ppl.inference.bmg_inference import BMGInference"
   ]
  },
  {
   "cell_type": "code",
   "execution_count": 4,
   "metadata": {},
   "outputs": [
    {
     "data": {
      "text/plain": [
       "RendererRegistry.enable('jupyterlab')"
      ]
     },
     "execution_count": 4,
     "metadata": {},
     "output_type": "execute_result"
    }
   ],
   "source": [
    "altair.renderers.enable(\"jupyterlab\")"
   ]
  },
  {
   "cell_type": "code",
   "execution_count": 5,
   "metadata": {},
   "outputs": [],
   "source": [
    "BLUE = \"#4e79a7\"\n",
    "ORANGE = \"#f28e2b\"\n",
    "RED = \"#e15759\"\n",
    "CYAN = \"#76b7b2\"\n",
    "GREEN = \"#59a14f\"\n",
    "YELLOW = \"#edc948\"\n",
    "PURPLE = \"#b07aa1\"\n",
    "PINK = \"#ff9da7\"\n",
    "BROWN = \"#9c755f\"\n",
    "GRAY = \"#bab0ac\""
   ]
  },
  {
   "cell_type": "code",
   "execution_count": 6,
   "metadata": {},
   "outputs": [],
   "source": [
    "def calc_prob_outlier(\n",
    "    x: torch.Tensor,\n",
    "    y: torch.Tensor,\n",
    "    err: torch.Tensor,\n",
    "    beta_0: float,\n",
    "    beta_1: float,\n",
    "    theta: float,\n",
    "    sigma_o: float,\n",
    ") -> torch.Tensor:\n",
    "    \"\"\"Calculate the probabilities that the points are outliers.\n",
    "    \n",
    "    See https://mc-stan.org/docs/2_29/stan-users-guide/summing-out-the-responsibility-parameter.html#recovering-posterior-mixture-proportions\n",
    "\n",
    "    Note that I'm computing some sort of best estimate for the probabilities. That is,\n",
    "    I'm not propagating uncertainty (as represented by samples of the parameters).\n",
    "    \"\"\"\n",
    "    mu = beta_0 + beta_1 * x\n",
    "    prob_z1 = dist.Normal(mu, err).log_prob(y).exp() * (1 - theta)\n",
    "    prob_z2 = dist.Normal(mu, sigma_o).log_prob(y).exp() * theta\n",
    "    return prob_z2 / (prob_z1 + prob_z2)\n"
   ]
  },
  {
   "cell_type": "code",
   "execution_count": 7,
   "metadata": {},
   "outputs": [],
   "source": [
    "x = torch.tensor(\n",
    "    [0, 3, 9, 14, 15, 19, 20, 21, 30, 35, 40, 41, 42, 43, 54, 56, 67, 69, 72, 88],\n",
    "    dtype=torch.float32,\n",
    ")\n",
    "y = torch.tensor(\n",
    "    [33, 68, 34, 34, 37, 71, 37, 44, 48, 49, 53, 49, 50, 48, 56, 60, 61, 63, 44, 71],\n",
    "    dtype=torch.float32,\n",
    ")\n",
    "err = torch.tensor(\n",
    "    [\n",
    "        3.6,\n",
    "        3.9,\n",
    "        2.6,\n",
    "        3.4,\n",
    "        3.8,\n",
    "        3.8,\n",
    "        2.2,\n",
    "        2.1,\n",
    "        2.3,\n",
    "        3.8,\n",
    "        2.2,\n",
    "        2.8,\n",
    "        3.9,\n",
    "        3.1,\n",
    "        3.4,\n",
    "        2.6,\n",
    "        3.4,\n",
    "        3.7,\n",
    "        2.0,\n",
    "        3.5,\n",
    "    ]\n",
    ")\n"
   ]
  },
  {
   "cell_type": "code",
   "execution_count": 8,
   "metadata": {},
   "outputs": [],
   "source": [
    "df_obs = pd.DataFrame({\"x\": x, \"y\": y, \"err\": err})"
   ]
  },
  {
   "cell_type": "code",
   "execution_count": 9,
   "metadata": {},
   "outputs": [
    {
     "data": {
      "application/vnd.vegalite.v4+json": {
       "$schema": "https://vega.github.io/schema/vega-lite/v4.17.0.json",
       "config": {
        "view": {
         "continuousHeight": 300,
         "continuousWidth": 400
        }
       },
       "data": {
        "name": "data-f3d943561f3e17e4f3ee5f1e4a597fcc"
       },
       "datasets": {
        "data-f3d943561f3e17e4f3ee5f1e4a597fcc": [
         {
          "err": 3.5999999046325684,
          "x": 0,
          "y": 33
         },
         {
          "err": 3.9000000953674316,
          "x": 3,
          "y": 68
         },
         {
          "err": 2.5999999046325684,
          "x": 9,
          "y": 34
         },
         {
          "err": 3.4000000953674316,
          "x": 14,
          "y": 34
         },
         {
          "err": 3.799999952316284,
          "x": 15,
          "y": 37
         },
         {
          "err": 3.799999952316284,
          "x": 19,
          "y": 71
         },
         {
          "err": 2.200000047683716,
          "x": 20,
          "y": 37
         },
         {
          "err": 2.0999999046325684,
          "x": 21,
          "y": 44
         },
         {
          "err": 2.299999952316284,
          "x": 30,
          "y": 48
         },
         {
          "err": 3.799999952316284,
          "x": 35,
          "y": 49
         },
         {
          "err": 2.200000047683716,
          "x": 40,
          "y": 53
         },
         {
          "err": 2.799999952316284,
          "x": 41,
          "y": 49
         },
         {
          "err": 3.9000000953674316,
          "x": 42,
          "y": 50
         },
         {
          "err": 3.0999999046325684,
          "x": 43,
          "y": 48
         },
         {
          "err": 3.4000000953674316,
          "x": 54,
          "y": 56
         },
         {
          "err": 2.5999999046325684,
          "x": 56,
          "y": 60
         },
         {
          "err": 3.4000000953674316,
          "x": 67,
          "y": 61
         },
         {
          "err": 3.700000047683716,
          "x": 69,
          "y": 63
         },
         {
          "err": 2,
          "x": 72,
          "y": 44
         },
         {
          "err": 3.5,
          "x": 88,
          "y": 71
         }
        ]
       },
       "layer": [
        {
         "encoding": {
          "x": {
           "field": "x",
           "type": "quantitative"
          },
          "y": {
           "field": "y",
           "scale": {
            "zero": false
           },
           "type": "quantitative"
          }
         },
         "mark": {
          "color": "#4e79a7",
          "type": "circle"
         }
        },
        {
         "encoding": {
          "x": {
           "field": "x",
           "type": "quantitative"
          },
          "y": {
           "field": "y",
           "type": "quantitative"
          },
          "yError": {
           "field": "err"
          }
         },
         "mark": {
          "color": "#4e79a7",
          "type": "errorbar"
         }
        }
       ]
      },
      "text/plain": [
       "<VegaLite 4 object>\n",
       "\n",
       "If you see this message, it means the renderer has not been properly enabled\n",
       "for the frontend that you are using. For more information, see\n",
       "https://altair-viz.github.io/user_guide/troubleshooting.html\n"
      ]
     },
     "execution_count": 9,
     "metadata": {},
     "output_type": "execute_result"
    }
   ],
   "source": [
    "error_bars = (\n",
    "    altair.Chart(df_obs)\n",
    "    .mark_errorbar(color=BLUE)\n",
    "    .encode(altair.X(\"x\"), altair.Y(\"y\"), altair.YError(\"err\"))\n",
    ")\n",
    "points = (\n",
    "    altair.Chart(df_obs)\n",
    "    .mark_circle(color=BLUE)\n",
    "    .encode(x=altair.X(\"x\"), y=altair.Y(\"y\", scale=altair.Scale(zero=False)))\n",
    ")\n",
    "points + error_bars\n"
   ]
  },
  {
   "cell_type": "code",
   "execution_count": 10,
   "metadata": {},
   "outputs": [],
   "source": [
    "STAN_CODE_NAIVE = \"\"\"\n",
    "data {\n",
    "    int<lower=0> n_obs;\n",
    "    vector[n_obs] x;\n",
    "    vector[n_obs] y;\n",
    "    vector[n_obs] err;\n",
    "}\n",
    "\n",
    "parameters {\n",
    "    real beta_0;\n",
    "    real beta_1;\n",
    "}\n",
    "\n",
    "model {\n",
    "    beta_0 ~ normal(0, 10);\n",
    "    beta_1 ~ normal(0, 10);\n",
    "\n",
    "    y ~ normal(beta_0 + beta_1 * x, err);\n",
    "}\n",
    "\"\"\""
   ]
  },
  {
   "cell_type": "code",
   "execution_count": 11,
   "metadata": {},
   "outputs": [
    {
     "name": "stdout",
     "output_type": "stream",
     "text": [
      "Building...\n"
     ]
    },
    {
     "name": "stderr",
     "output_type": "stream",
     "text": [
      "\n",
      "Building: found in cache, done."
     ]
    }
   ],
   "source": [
    "posterior = stan.build(\n",
    "    program_code=STAN_CODE_NAIVE,\n",
    "    data={\"n_obs\": len(x), \"x\": x.tolist(), \"y\": y.tolist(), \"err\": err.tolist()},\n",
    "    random_seed=332211,\n",
    ")"
   ]
  },
  {
   "cell_type": "code",
   "execution_count": 12,
   "metadata": {},
   "outputs": [
    {
     "name": "stderr",
     "output_type": "stream",
     "text": [
      "Sampling:   0%\n",
      "Sampling:  25% (2000/8000)\n",
      "Sampling:  50% (4000/8000)\n",
      "Sampling:  75% (6000/8000)\n",
      "Sampling: 100% (8000/8000)\n",
      "Sampling: 100% (8000/8000), done.\n",
      "Messages received during sampling:\n",
      "  Gradient evaluation took 2.5e-05 seconds\n",
      "  1000 transitions using 10 leapfrog steps per transition would take 0.25 seconds.\n",
      "  Adjust your expectations accordingly!\n",
      "  Gradient evaluation took 7e-06 seconds\n",
      "  1000 transitions using 10 leapfrog steps per transition would take 0.07 seconds.\n",
      "  Adjust your expectations accordingly!\n",
      "  Gradient evaluation took 5e-06 seconds\n",
      "  1000 transitions using 10 leapfrog steps per transition would take 0.05 seconds.\n",
      "  Adjust your expectations accordingly!\n",
      "  Gradient evaluation took 5e-06 seconds\n",
      "  1000 transitions using 10 leapfrog steps per transition would take 0.05 seconds.\n",
      "  Adjust your expectations accordingly!\n"
     ]
    }
   ],
   "source": [
    "fit = posterior.sample(num_chains=4, num_samples=1000)"
   ]
  },
  {
   "cell_type": "code",
   "execution_count": 13,
   "metadata": {},
   "outputs": [],
   "source": [
    "df_samples = fit.to_frame()"
   ]
  },
  {
   "cell_type": "code",
   "execution_count": 14,
   "metadata": {},
   "outputs": [
    {
     "data": {
      "text/html": [
       "<div>\n",
       "<style scoped>\n",
       "    .dataframe tbody tr th:only-of-type {\n",
       "        vertical-align: middle;\n",
       "    }\n",
       "\n",
       "    .dataframe tbody tr th {\n",
       "        vertical-align: top;\n",
       "    }\n",
       "\n",
       "    .dataframe thead th {\n",
       "        text-align: right;\n",
       "    }\n",
       "</style>\n",
       "<table border=\"1\" class=\"dataframe\">\n",
       "  <thead>\n",
       "    <tr style=\"text-align: right;\">\n",
       "      <th></th>\n",
       "      <th>count</th>\n",
       "      <th>mean</th>\n",
       "      <th>std</th>\n",
       "      <th>min</th>\n",
       "      <th>5%</th>\n",
       "      <th>50%</th>\n",
       "      <th>95%</th>\n",
       "      <th>max</th>\n",
       "    </tr>\n",
       "    <tr>\n",
       "      <th>parameters</th>\n",
       "      <th></th>\n",
       "      <th></th>\n",
       "      <th></th>\n",
       "      <th></th>\n",
       "      <th></th>\n",
       "      <th></th>\n",
       "      <th></th>\n",
       "      <th></th>\n",
       "    </tr>\n",
       "  </thead>\n",
       "  <tbody>\n",
       "    <tr>\n",
       "      <th>lp__</th>\n",
       "      <td>4000.0</td>\n",
       "      <td>-109.513387</td>\n",
       "      <td>1.050401</td>\n",
       "      <td>-116.919819</td>\n",
       "      <td>-111.616797</td>\n",
       "      <td>-109.188672</td>\n",
       "      <td>-108.519086</td>\n",
       "      <td>-108.472036</td>\n",
       "    </tr>\n",
       "    <tr>\n",
       "      <th>accept_stat__</th>\n",
       "      <td>4000.0</td>\n",
       "      <td>0.923421</td>\n",
       "      <td>0.107637</td>\n",
       "      <td>0.251288</td>\n",
       "      <td>0.696539</td>\n",
       "      <td>0.969704</td>\n",
       "      <td>1.000000</td>\n",
       "      <td>1.000000</td>\n",
       "    </tr>\n",
       "    <tr>\n",
       "      <th>stepsize__</th>\n",
       "      <td>4000.0</td>\n",
       "      <td>0.422027</td>\n",
       "      <td>0.031133</td>\n",
       "      <td>0.382050</td>\n",
       "      <td>0.382050</td>\n",
       "      <td>0.421039</td>\n",
       "      <td>0.463980</td>\n",
       "      <td>0.463980</td>\n",
       "    </tr>\n",
       "    <tr>\n",
       "      <th>treedepth__</th>\n",
       "      <td>4000.0</td>\n",
       "      <td>2.210000</td>\n",
       "      <td>0.720090</td>\n",
       "      <td>1.000000</td>\n",
       "      <td>1.000000</td>\n",
       "      <td>2.000000</td>\n",
       "      <td>3.000000</td>\n",
       "      <td>4.000000</td>\n",
       "    </tr>\n",
       "    <tr>\n",
       "      <th>n_leapfrog__</th>\n",
       "      <td>4000.0</td>\n",
       "      <td>6.114500</td>\n",
       "      <td>3.744649</td>\n",
       "      <td>1.000000</td>\n",
       "      <td>1.000000</td>\n",
       "      <td>7.000000</td>\n",
       "      <td>15.000000</td>\n",
       "      <td>15.000000</td>\n",
       "    </tr>\n",
       "    <tr>\n",
       "      <th>divergent__</th>\n",
       "      <td>4000.0</td>\n",
       "      <td>0.000000</td>\n",
       "      <td>0.000000</td>\n",
       "      <td>0.000000</td>\n",
       "      <td>0.000000</td>\n",
       "      <td>0.000000</td>\n",
       "      <td>0.000000</td>\n",
       "      <td>0.000000</td>\n",
       "    </tr>\n",
       "    <tr>\n",
       "      <th>energy__</th>\n",
       "      <td>4000.0</td>\n",
       "      <td>110.523268</td>\n",
       "      <td>1.444446</td>\n",
       "      <td>108.487704</td>\n",
       "      <td>108.829640</td>\n",
       "      <td>110.203549</td>\n",
       "      <td>113.405848</td>\n",
       "      <td>118.316766</td>\n",
       "    </tr>\n",
       "    <tr>\n",
       "      <th>beta_0</th>\n",
       "      <td>4000.0</td>\n",
       "      <td>39.042598</td>\n",
       "      <td>1.249936</td>\n",
       "      <td>34.444524</td>\n",
       "      <td>36.958583</td>\n",
       "      <td>39.059034</td>\n",
       "      <td>41.032308</td>\n",
       "      <td>42.658000</td>\n",
       "    </tr>\n",
       "    <tr>\n",
       "      <th>beta_1</th>\n",
       "      <td>4000.0</td>\n",
       "      <td>0.249544</td>\n",
       "      <td>0.028240</td>\n",
       "      <td>0.169302</td>\n",
       "      <td>0.204554</td>\n",
       "      <td>0.248115</td>\n",
       "      <td>0.297175</td>\n",
       "      <td>0.360917</td>\n",
       "    </tr>\n",
       "  </tbody>\n",
       "</table>\n",
       "</div>"
      ],
      "text/plain": [
       "                count        mean       std         min          5%  \\\n",
       "parameters                                                            \n",
       "lp__           4000.0 -109.513387  1.050401 -116.919819 -111.616797   \n",
       "accept_stat__  4000.0    0.923421  0.107637    0.251288    0.696539   \n",
       "stepsize__     4000.0    0.422027  0.031133    0.382050    0.382050   \n",
       "treedepth__    4000.0    2.210000  0.720090    1.000000    1.000000   \n",
       "n_leapfrog__   4000.0    6.114500  3.744649    1.000000    1.000000   \n",
       "divergent__    4000.0    0.000000  0.000000    0.000000    0.000000   \n",
       "energy__       4000.0  110.523268  1.444446  108.487704  108.829640   \n",
       "beta_0         4000.0   39.042598  1.249936   34.444524   36.958583   \n",
       "beta_1         4000.0    0.249544  0.028240    0.169302    0.204554   \n",
       "\n",
       "                      50%         95%         max  \n",
       "parameters                                         \n",
       "lp__          -109.188672 -108.519086 -108.472036  \n",
       "accept_stat__    0.969704    1.000000    1.000000  \n",
       "stepsize__       0.421039    0.463980    0.463980  \n",
       "treedepth__      2.000000    3.000000    4.000000  \n",
       "n_leapfrog__     7.000000   15.000000   15.000000  \n",
       "divergent__      0.000000    0.000000    0.000000  \n",
       "energy__       110.203549  113.405848  118.316766  \n",
       "beta_0          39.059034   41.032308   42.658000  \n",
       "beta_1           0.248115    0.297175    0.360917  "
      ]
     },
     "execution_count": 14,
     "metadata": {},
     "output_type": "execute_result"
    }
   ],
   "source": [
    "df_samples.describe(percentiles=[0.05, 0.5, 0.95]).T"
   ]
  },
  {
   "cell_type": "code",
   "execution_count": 15,
   "metadata": {},
   "outputs": [
    {
     "data": {
      "application/vnd.vegalite.v4+json": {
       "$schema": "https://vega.github.io/schema/vega-lite/v4.17.0.json",
       "config": {
        "view": {
         "continuousHeight": 300,
         "continuousWidth": 400
        }
       },
       "data": {
        "name": "data-f3d943561f3e17e4f3ee5f1e4a597fcc"
       },
       "datasets": {
        "data-281b34ad518718c3474aad1d5f60aaa7": [
         {
          "x": 0,
          "y": 39.042597549751136
         },
         {
          "x": 1,
          "y": 39.29214167354987
         },
         {
          "x": 2,
          "y": 39.54168579734861
         },
         {
          "x": 3,
          "y": 39.79122992114735
         },
         {
          "x": 4,
          "y": 40.04077404494608
         },
         {
          "x": 5,
          "y": 40.290318168744825
         },
         {
          "x": 6,
          "y": 40.53986229254356
         },
         {
          "x": 7,
          "y": 40.7894064163423
         },
         {
          "x": 8,
          "y": 41.03895054014104
         },
         {
          "x": 9,
          "y": 41.28849466393977
         },
         {
          "x": 10,
          "y": 41.538038787738515
         },
         {
          "x": 11,
          "y": 41.78758291153725
         },
         {
          "x": 12,
          "y": 42.037127035335985
         },
         {
          "x": 13,
          "y": 42.28667115913473
         },
         {
          "x": 14,
          "y": 42.53621528293346
         },
         {
          "x": 15,
          "y": 42.7857594067322
         },
         {
          "x": 16,
          "y": 43.03530353053094
         },
         {
          "x": 17,
          "y": 43.284847654329674
         },
         {
          "x": 18,
          "y": 43.53439177812841
         },
         {
          "x": 19,
          "y": 43.78393590192715
         },
         {
          "x": 20,
          "y": 44.033480025725886
         },
         {
          "x": 21,
          "y": 44.28302414952463
         },
         {
          "x": 22,
          "y": 44.53256827332336
         },
         {
          "x": 23,
          "y": 44.7821123971221
         },
         {
          "x": 24,
          "y": 45.03165652092084
         },
         {
          "x": 25,
          "y": 45.281200644719576
         },
         {
          "x": 26,
          "y": 45.53074476851832
         },
         {
          "x": 27,
          "y": 45.78028889231705
         },
         {
          "x": 28,
          "y": 46.02983301611579
         },
         {
          "x": 29,
          "y": 46.27937713991453
         },
         {
          "x": 30,
          "y": 46.528921263713265
         },
         {
          "x": 31,
          "y": 46.778465387512
         },
         {
          "x": 32,
          "y": 47.02800951131074
         },
         {
          "x": 33,
          "y": 47.27755363510948
         },
         {
          "x": 34,
          "y": 47.52709775890821
         },
         {
          "x": 35,
          "y": 47.776641882706954
         },
         {
          "x": 36,
          "y": 48.02618600650569
         },
         {
          "x": 37,
          "y": 48.275730130304424
         },
         {
          "x": 38,
          "y": 48.52527425410317
         },
         {
          "x": 39,
          "y": 48.7748183779019
         },
         {
          "x": 40,
          "y": 49.02436250170064
         },
         {
          "x": 41,
          "y": 49.27390662549938
         },
         {
          "x": 42,
          "y": 49.523450749298114
         },
         {
          "x": 43,
          "y": 49.77299487309685
         },
         {
          "x": 44,
          "y": 50.02253899689559
         },
         {
          "x": 45,
          "y": 50.272083120694326
         },
         {
          "x": 46,
          "y": 50.52162724449307
         },
         {
          "x": 47,
          "y": 50.7711713682918
         },
         {
          "x": 48,
          "y": 51.020715492090545
         },
         {
          "x": 49,
          "y": 51.27025961588928
         },
         {
          "x": 50,
          "y": 51.519803739688015
         },
         {
          "x": 51,
          "y": 51.76934786348676
         },
         {
          "x": 52,
          "y": 52.01889198728549
         },
         {
          "x": 53,
          "y": 52.26843611108423
         },
         {
          "x": 54,
          "y": 52.51798023488297
         },
         {
          "x": 55,
          "y": 52.767524358681705
         },
         {
          "x": 56,
          "y": 53.01706848248044
         },
         {
          "x": 57,
          "y": 53.26661260627918
         },
         {
          "x": 58,
          "y": 53.51615673007792
         },
         {
          "x": 59,
          "y": 53.76570085387665
         },
         {
          "x": 60,
          "y": 54.015244977675394
         },
         {
          "x": 61,
          "y": 54.26478910147413
         },
         {
          "x": 62,
          "y": 54.514333225272864
         },
         {
          "x": 63,
          "y": 54.763877349071606
         },
         {
          "x": 64,
          "y": 55.01342147287034
         },
         {
          "x": 65,
          "y": 55.262965596669076
         },
         {
          "x": 66,
          "y": 55.51250972046782
         },
         {
          "x": 67,
          "y": 55.76205384426656
         },
         {
          "x": 68,
          "y": 56.01159796806529
         },
         {
          "x": 69,
          "y": 56.26114209186403
         },
         {
          "x": 70,
          "y": 56.51068621566277
         },
         {
          "x": 71,
          "y": 56.76023033946151
         },
         {
          "x": 72,
          "y": 57.00977446326024
         },
         {
          "x": 73,
          "y": 57.259318587058985
         },
         {
          "x": 74,
          "y": 57.50886271085772
         },
         {
          "x": 75,
          "y": 57.758406834656455
         },
         {
          "x": 76,
          "y": 58.0079509584552
         },
         {
          "x": 77,
          "y": 58.25749508225393
         },
         {
          "x": 78,
          "y": 58.50703920605267
         },
         {
          "x": 79,
          "y": 58.75658332985141
         },
         {
          "x": 80,
          "y": 59.006127453650144
         },
         {
          "x": 81,
          "y": 59.25567157744888
         },
         {
          "x": 82,
          "y": 59.50521570124762
         },
         {
          "x": 83,
          "y": 59.75475982504636
         },
         {
          "x": 84,
          "y": 60.00430394884509
         },
         {
          "x": 85,
          "y": 60.253848072643834
         },
         {
          "x": 86,
          "y": 60.50339219644257
         },
         {
          "x": 87,
          "y": 60.752936320241304
         },
         {
          "x": 88,
          "y": 61.002480444040046
         },
         {
          "x": 89,
          "y": 61.25202456783879
         },
         {
          "x": 90,
          "y": 61.501568691637516
         },
         {
          "x": 91,
          "y": 61.75111281543626
         },
         {
          "x": 92,
          "y": 62.000656939235
         },
         {
          "x": 93,
          "y": 62.250201063033735
         },
         {
          "x": 94,
          "y": 62.49974518683247
         },
         {
          "x": 95,
          "y": 62.74928931063121
         },
         {
          "x": 96,
          "y": 62.99883343442995
         },
         {
          "x": 97,
          "y": 63.24837755822868
         },
         {
          "x": 98,
          "y": 63.497921682027425
         },
         {
          "x": 99,
          "y": 63.74746580582616
         },
         {
          "x": 100,
          "y": 63.997009929624895
         }
        ],
        "data-f3d943561f3e17e4f3ee5f1e4a597fcc": [
         {
          "err": 3.5999999046325684,
          "x": 0,
          "y": 33
         },
         {
          "err": 3.9000000953674316,
          "x": 3,
          "y": 68
         },
         {
          "err": 2.5999999046325684,
          "x": 9,
          "y": 34
         },
         {
          "err": 3.4000000953674316,
          "x": 14,
          "y": 34
         },
         {
          "err": 3.799999952316284,
          "x": 15,
          "y": 37
         },
         {
          "err": 3.799999952316284,
          "x": 19,
          "y": 71
         },
         {
          "err": 2.200000047683716,
          "x": 20,
          "y": 37
         },
         {
          "err": 2.0999999046325684,
          "x": 21,
          "y": 44
         },
         {
          "err": 2.299999952316284,
          "x": 30,
          "y": 48
         },
         {
          "err": 3.799999952316284,
          "x": 35,
          "y": 49
         },
         {
          "err": 2.200000047683716,
          "x": 40,
          "y": 53
         },
         {
          "err": 2.799999952316284,
          "x": 41,
          "y": 49
         },
         {
          "err": 3.9000000953674316,
          "x": 42,
          "y": 50
         },
         {
          "err": 3.0999999046325684,
          "x": 43,
          "y": 48
         },
         {
          "err": 3.4000000953674316,
          "x": 54,
          "y": 56
         },
         {
          "err": 2.5999999046325684,
          "x": 56,
          "y": 60
         },
         {
          "err": 3.4000000953674316,
          "x": 67,
          "y": 61
         },
         {
          "err": 3.700000047683716,
          "x": 69,
          "y": 63
         },
         {
          "err": 2,
          "x": 72,
          "y": 44
         },
         {
          "err": 3.5,
          "x": 88,
          "y": 71
         }
        ]
       },
       "layer": [
        {
         "encoding": {
          "x": {
           "field": "x",
           "type": "quantitative"
          },
          "y": {
           "field": "y",
           "scale": {
            "zero": false
           },
           "type": "quantitative"
          }
         },
         "mark": {
          "color": "#4e79a7",
          "type": "circle"
         }
        },
        {
         "encoding": {
          "x": {
           "field": "x",
           "type": "quantitative"
          },
          "y": {
           "field": "y",
           "type": "quantitative"
          },
          "yError": {
           "field": "err"
          }
         },
         "mark": {
          "color": "#4e79a7",
          "type": "errorbar"
         }
        },
        {
         "data": {
          "name": "data-281b34ad518718c3474aad1d5f60aaa7"
         },
         "encoding": {
          "x": {
           "field": "x",
           "type": "quantitative"
          },
          "y": {
           "field": "y",
           "type": "quantitative"
          }
         },
         "mark": {
          "color": "#e15759",
          "type": "line"
         }
        }
       ]
      },
      "text/plain": [
       "<VegaLite 4 object>\n",
       "\n",
       "If you see this message, it means the renderer has not been properly enabled\n",
       "for the frontend that you are using. For more information, see\n",
       "https://altair-viz.github.io/user_guide/troubleshooting.html\n"
      ]
     },
     "execution_count": 15,
     "metadata": {},
     "output_type": "execute_result"
    }
   ],
   "source": [
    "error_bars = (\n",
    "    altair.Chart(df_obs)\n",
    "    .mark_errorbar(color=BLUE)\n",
    "    .encode(altair.X(\"x\"), altair.Y(\"y\"), altair.YError(\"err\"))\n",
    ")\n",
    "points = (\n",
    "    altair.Chart(df_obs)\n",
    "    .mark_circle(color=BLUE)\n",
    "    .encode(x=altair.X(\"x\"), y=altair.Y(\"y\", scale=altair.Scale(zero=False)))\n",
    ")\n",
    "best_fit = (\n",
    "    altair.Chart(\n",
    "        pd.DataFrame({\"x\": np.linspace(0, 100, 101)}).assign(\n",
    "            y=lambda df: df_samples[\"beta_0\"].mean()\n",
    "            + df_samples[\"beta_1\"].mean() * df[\"x\"]\n",
    "        )\n",
    "    )\n",
    "    .mark_line(color=RED)\n",
    "    .encode(altair.X(\"x\"), altair.Y(\"y\"))\n",
    ")\n",
    "points + error_bars + best_fit\n"
   ]
  },
  {
   "cell_type": "code",
   "execution_count": 16,
   "metadata": {},
   "outputs": [],
   "source": [
    "STAN_CODE_OUTLIERS = \"\"\"\n",
    "data {\n",
    "    int<lower=0> n_obs;\n",
    "    vector[n_obs] x;\n",
    "    vector[n_obs] y;\n",
    "    vector[n_obs] err;\n",
    "}\n",
    "\n",
    "parameters {\n",
    "    real beta_0;\n",
    "    real beta_1;\n",
    "    real<lower=0> sigma_o;\n",
    "    real<lower=0, upper=1> theta;\n",
    "}\n",
    "\n",
    "model {\n",
    "    real mu;\n",
    "    beta_0 ~ normal(0, 10);\n",
    "    beta_1 ~ normal(0, 10);\n",
    "    sigma_o ~ gamma(2, 2);\n",
    "    theta ~ beta(2, 5);\n",
    "\n",
    "    for (i in 1:n_obs) {\n",
    "        mu = beta_0 + beta_1 * x[i];\n",
    "        target += log_mix(theta, normal_lpdf(y[i] | mu, sigma_o ), normal_lpdf(y[i] | mu, err[i] ));\n",
    "    }\n",
    "}\n",
    "\"\"\""
   ]
  },
  {
   "cell_type": "code",
   "execution_count": 17,
   "metadata": {},
   "outputs": [
    {
     "name": "stdout",
     "output_type": "stream",
     "text": [
      "Building...\n"
     ]
    },
    {
     "name": "stderr",
     "output_type": "stream",
     "text": [
      "\n",
      "Building: found in cache, done.Messages from stanc:\n",
      "Warning in '/var/folders/9c/th30_62d0lx78835_vdd37sr0000gn/T/httpstan_e528pokx/model_htp43kdw.stan', line 21, column 4: The\n",
      "    parameter theta is on the left-hand side of more than one tilde\n",
      "    statement.\n"
     ]
    }
   ],
   "source": [
    "posterior = stan.build(\n",
    "    program_code=STAN_CODE_OUTLIERS,\n",
    "    data={\"n_obs\": len(x), \"x\": x.tolist(), \"y\": y.tolist(), \"err\": err.tolist()},\n",
    "    random_seed=332211,\n",
    ")\n"
   ]
  },
  {
   "cell_type": "code",
   "execution_count": 18,
   "metadata": {},
   "outputs": [
    {
     "name": "stderr",
     "output_type": "stream",
     "text": [
      "Sampling:   0%\n",
      "Sampling:  25% (2000/8000)\n",
      "Sampling:  50% (4000/8000)\n",
      "Sampling:  75% (6000/8000)\n",
      "Sampling: 100% (8000/8000)\n",
      "Sampling: 100% (8000/8000), done.\n",
      "Messages received during sampling:\n",
      "  Gradient evaluation took 2e-05 seconds\n",
      "  1000 transitions using 10 leapfrog steps per transition would take 0.2 seconds.\n",
      "  Adjust your expectations accordingly!\n",
      "  Gradient evaluation took 2.9e-05 seconds\n",
      "  1000 transitions using 10 leapfrog steps per transition would take 0.29 seconds.\n",
      "  Adjust your expectations accordingly!\n",
      "  Gradient evaluation took 1.2e-05 seconds\n",
      "  1000 transitions using 10 leapfrog steps per transition would take 0.12 seconds.\n",
      "  Adjust your expectations accordingly!\n",
      "  Gradient evaluation took 6e-06 seconds\n",
      "  1000 transitions using 10 leapfrog steps per transition would take 0.06 seconds.\n",
      "  Adjust your expectations accordingly!\n"
     ]
    }
   ],
   "source": [
    "fit = posterior.sample(num_chains=4, num_samples=1000)"
   ]
  },
  {
   "cell_type": "code",
   "execution_count": 19,
   "metadata": {},
   "outputs": [],
   "source": [
    "df_samples = fit.to_frame()"
   ]
  },
  {
   "cell_type": "code",
   "execution_count": 20,
   "metadata": {},
   "outputs": [
    {
     "data": {
      "text/html": [
       "<div>\n",
       "<style scoped>\n",
       "    .dataframe tbody tr th:only-of-type {\n",
       "        vertical-align: middle;\n",
       "    }\n",
       "\n",
       "    .dataframe tbody tr th {\n",
       "        vertical-align: top;\n",
       "    }\n",
       "\n",
       "    .dataframe thead th {\n",
       "        text-align: right;\n",
       "    }\n",
       "</style>\n",
       "<table border=\"1\" class=\"dataframe\">\n",
       "  <thead>\n",
       "    <tr style=\"text-align: right;\">\n",
       "      <th></th>\n",
       "      <th>count</th>\n",
       "      <th>mean</th>\n",
       "      <th>std</th>\n",
       "      <th>min</th>\n",
       "      <th>5%</th>\n",
       "      <th>50%</th>\n",
       "      <th>95%</th>\n",
       "      <th>max</th>\n",
       "    </tr>\n",
       "    <tr>\n",
       "      <th>parameters</th>\n",
       "      <th></th>\n",
       "      <th></th>\n",
       "      <th></th>\n",
       "      <th></th>\n",
       "      <th></th>\n",
       "      <th></th>\n",
       "      <th></th>\n",
       "      <th></th>\n",
       "    </tr>\n",
       "  </thead>\n",
       "  <tbody>\n",
       "    <tr>\n",
       "      <th>lp__</th>\n",
       "      <td>4000.0</td>\n",
       "      <td>-96.847199</td>\n",
       "      <td>1.506942</td>\n",
       "      <td>-107.462114</td>\n",
       "      <td>-99.743475</td>\n",
       "      <td>-96.512814</td>\n",
       "      <td>-95.069789</td>\n",
       "      <td>-94.743005</td>\n",
       "    </tr>\n",
       "    <tr>\n",
       "      <th>accept_stat__</th>\n",
       "      <td>4000.0</td>\n",
       "      <td>0.929085</td>\n",
       "      <td>0.098290</td>\n",
       "      <td>0.136147</td>\n",
       "      <td>0.730945</td>\n",
       "      <td>0.966989</td>\n",
       "      <td>1.000000</td>\n",
       "      <td>1.000000</td>\n",
       "    </tr>\n",
       "    <tr>\n",
       "      <th>stepsize__</th>\n",
       "      <td>4000.0</td>\n",
       "      <td>0.337962</td>\n",
       "      <td>0.011483</td>\n",
       "      <td>0.320605</td>\n",
       "      <td>0.320605</td>\n",
       "      <td>0.340878</td>\n",
       "      <td>0.349488</td>\n",
       "      <td>0.349488</td>\n",
       "    </tr>\n",
       "    <tr>\n",
       "      <th>treedepth__</th>\n",
       "      <td>4000.0</td>\n",
       "      <td>3.104250</td>\n",
       "      <td>0.693904</td>\n",
       "      <td>1.000000</td>\n",
       "      <td>2.000000</td>\n",
       "      <td>3.000000</td>\n",
       "      <td>4.000000</td>\n",
       "      <td>4.000000</td>\n",
       "    </tr>\n",
       "    <tr>\n",
       "      <th>n_leapfrog__</th>\n",
       "      <td>4000.0</td>\n",
       "      <td>10.642000</td>\n",
       "      <td>4.507873</td>\n",
       "      <td>1.000000</td>\n",
       "      <td>3.000000</td>\n",
       "      <td>11.000000</td>\n",
       "      <td>15.000000</td>\n",
       "      <td>31.000000</td>\n",
       "    </tr>\n",
       "    <tr>\n",
       "      <th>divergent__</th>\n",
       "      <td>4000.0</td>\n",
       "      <td>0.000000</td>\n",
       "      <td>0.000000</td>\n",
       "      <td>0.000000</td>\n",
       "      <td>0.000000</td>\n",
       "      <td>0.000000</td>\n",
       "      <td>0.000000</td>\n",
       "      <td>0.000000</td>\n",
       "    </tr>\n",
       "    <tr>\n",
       "      <th>energy__</th>\n",
       "      <td>4000.0</td>\n",
       "      <td>98.864675</td>\n",
       "      <td>2.049025</td>\n",
       "      <td>94.910001</td>\n",
       "      <td>96.098780</td>\n",
       "      <td>98.561324</td>\n",
       "      <td>102.544776</td>\n",
       "      <td>112.184034</td>\n",
       "    </tr>\n",
       "    <tr>\n",
       "      <th>beta_0</th>\n",
       "      <td>4000.0</td>\n",
       "      <td>32.198265</td>\n",
       "      <td>1.863560</td>\n",
       "      <td>25.534571</td>\n",
       "      <td>29.322431</td>\n",
       "      <td>32.081496</td>\n",
       "      <td>35.431268</td>\n",
       "      <td>42.271615</td>\n",
       "    </tr>\n",
       "    <tr>\n",
       "      <th>beta_1</th>\n",
       "      <td>4000.0</td>\n",
       "      <td>0.447492</td>\n",
       "      <td>0.041893</td>\n",
       "      <td>0.267811</td>\n",
       "      <td>0.376613</td>\n",
       "      <td>0.448666</td>\n",
       "      <td>0.514474</td>\n",
       "      <td>0.606398</td>\n",
       "    </tr>\n",
       "    <tr>\n",
       "      <th>sigma_o</th>\n",
       "      <td>4000.0</td>\n",
       "      <td>10.352935</td>\n",
       "      <td>1.346388</td>\n",
       "      <td>6.710289</td>\n",
       "      <td>8.348116</td>\n",
       "      <td>10.223487</td>\n",
       "      <td>12.729379</td>\n",
       "      <td>16.791363</td>\n",
       "    </tr>\n",
       "    <tr>\n",
       "      <th>theta</th>\n",
       "      <td>4000.0</td>\n",
       "      <td>0.300034</td>\n",
       "      <td>0.118589</td>\n",
       "      <td>0.036695</td>\n",
       "      <td>0.124259</td>\n",
       "      <td>0.287879</td>\n",
       "      <td>0.514604</td>\n",
       "      <td>0.795019</td>\n",
       "    </tr>\n",
       "  </tbody>\n",
       "</table>\n",
       "</div>"
      ],
      "text/plain": [
       "                count       mean       std         min         5%        50%  \\\n",
       "parameters                                                                     \n",
       "lp__           4000.0 -96.847199  1.506942 -107.462114 -99.743475 -96.512814   \n",
       "accept_stat__  4000.0   0.929085  0.098290    0.136147   0.730945   0.966989   \n",
       "stepsize__     4000.0   0.337962  0.011483    0.320605   0.320605   0.340878   \n",
       "treedepth__    4000.0   3.104250  0.693904    1.000000   2.000000   3.000000   \n",
       "n_leapfrog__   4000.0  10.642000  4.507873    1.000000   3.000000  11.000000   \n",
       "divergent__    4000.0   0.000000  0.000000    0.000000   0.000000   0.000000   \n",
       "energy__       4000.0  98.864675  2.049025   94.910001  96.098780  98.561324   \n",
       "beta_0         4000.0  32.198265  1.863560   25.534571  29.322431  32.081496   \n",
       "beta_1         4000.0   0.447492  0.041893    0.267811   0.376613   0.448666   \n",
       "sigma_o        4000.0  10.352935  1.346388    6.710289   8.348116  10.223487   \n",
       "theta          4000.0   0.300034  0.118589    0.036695   0.124259   0.287879   \n",
       "\n",
       "                      95%         max  \n",
       "parameters                             \n",
       "lp__           -95.069789  -94.743005  \n",
       "accept_stat__    1.000000    1.000000  \n",
       "stepsize__       0.349488    0.349488  \n",
       "treedepth__      4.000000    4.000000  \n",
       "n_leapfrog__    15.000000   31.000000  \n",
       "divergent__      0.000000    0.000000  \n",
       "energy__       102.544776  112.184034  \n",
       "beta_0          35.431268   42.271615  \n",
       "beta_1           0.514474    0.606398  \n",
       "sigma_o         12.729379   16.791363  \n",
       "theta            0.514604    0.795019  "
      ]
     },
     "execution_count": 20,
     "metadata": {},
     "output_type": "execute_result"
    }
   ],
   "source": [
    "df_summary = df_samples.describe(percentiles=[0.05, 0.5, 0.95])\n",
    "df_summary.T"
   ]
  },
  {
   "cell_type": "code",
   "execution_count": 21,
   "metadata": {},
   "outputs": [],
   "source": [
    "df_params_mean = df_summary.loc[\"mean\"]"
   ]
  },
  {
   "cell_type": "code",
   "execution_count": 22,
   "metadata": {},
   "outputs": [],
   "source": [
    "prob_outlier = calc_prob_outlier(\n",
    "    x,\n",
    "    y,\n",
    "    err,\n",
    "    beta_0=df_params_mean[\"beta_0\"],\n",
    "    beta_1=df_params_mean[\"beta_1\"],\n",
    "    theta=df_params_mean[\"theta\"],\n",
    "    sigma_o=df_params_mean[\"sigma_o\"],\n",
    ")\n"
   ]
  },
  {
   "cell_type": "code",
   "execution_count": 23,
   "metadata": {},
   "outputs": [
    {
     "data": {
      "application/vnd.vegalite.v4+json": {
       "$schema": "https://vega.github.io/schema/vega-lite/v4.17.0.json",
       "config": {
        "view": {
         "continuousHeight": 300,
         "continuousWidth": 400
        }
       },
       "data": {
        "name": "data-83105f819ff365be090485204d58d24e"
       },
       "datasets": {
        "data-29aa9eab79c1638592a2889c6e04f20a": [
         {
          "x": 0,
          "y": 32.198265031640865
         },
         {
          "x": 1,
          "y": 32.645757080239655
         },
         {
          "x": 2,
          "y": 33.093249128838444
         },
         {
          "x": 3,
          "y": 33.54074117743723
         },
         {
          "x": 4,
          "y": 33.98823322603602
         },
         {
          "x": 5,
          "y": 34.43572527463481
         },
         {
          "x": 6,
          "y": 34.88321732323361
         },
         {
          "x": 7,
          "y": 35.3307093718324
         },
         {
          "x": 8,
          "y": 35.77820142043119
         },
         {
          "x": 9,
          "y": 36.22569346902998
         },
         {
          "x": 10,
          "y": 36.67318551762877
         },
         {
          "x": 11,
          "y": 37.120677566227556
         },
         {
          "x": 12,
          "y": 37.568169614826346
         },
         {
          "x": 13,
          "y": 38.015661663425135
         },
         {
          "x": 14,
          "y": 38.463153712023924
         },
         {
          "x": 15,
          "y": 38.910645760622714
         },
         {
          "x": 16,
          "y": 39.3581378092215
         },
         {
          "x": 17,
          "y": 39.80562985782029
         },
         {
          "x": 18,
          "y": 40.25312190641908
         },
         {
          "x": 19,
          "y": 40.70061395501788
         },
         {
          "x": 20,
          "y": 41.14810600361667
         },
         {
          "x": 21,
          "y": 41.59559805221546
         },
         {
          "x": 22,
          "y": 42.04309010081425
         },
         {
          "x": 23,
          "y": 42.49058214941304
         },
         {
          "x": 24,
          "y": 42.938074198011826
         },
         {
          "x": 25,
          "y": 43.385566246610615
         },
         {
          "x": 26,
          "y": 43.833058295209405
         },
         {
          "x": 27,
          "y": 44.280550343808194
         },
         {
          "x": 28,
          "y": 44.72804239240699
         },
         {
          "x": 29,
          "y": 45.17553444100578
         },
         {
          "x": 30,
          "y": 45.62302648960457
         },
         {
          "x": 31,
          "y": 46.07051853820336
         },
         {
          "x": 32,
          "y": 46.51801058680215
         },
         {
          "x": 33,
          "y": 46.96550263540094
         },
         {
          "x": 34,
          "y": 47.41299468399973
         },
         {
          "x": 35,
          "y": 47.86048673259852
         },
         {
          "x": 36,
          "y": 48.307978781197306
         },
         {
          "x": 37,
          "y": 48.755470829796096
         },
         {
          "x": 38,
          "y": 49.202962878394885
         },
         {
          "x": 39,
          "y": 49.650454926993675
         },
         {
          "x": 40,
          "y": 50.097946975592464
         },
         {
          "x": 41,
          "y": 50.54543902419125
         },
         {
          "x": 42,
          "y": 50.99293107279004
         },
         {
          "x": 43,
          "y": 51.44042312138883
         },
         {
          "x": 44,
          "y": 51.88791516998763
         },
         {
          "x": 45,
          "y": 52.33540721858642
         },
         {
          "x": 46,
          "y": 52.78289926718521
         },
         {
          "x": 47,
          "y": 53.230391315784
         },
         {
          "x": 48,
          "y": 53.67788336438279
         },
         {
          "x": 49,
          "y": 54.125375412981576
         },
         {
          "x": 50,
          "y": 54.57286746158037
         },
         {
          "x": 51,
          "y": 55.02035951017916
         },
         {
          "x": 52,
          "y": 55.46785155877795
         },
         {
          "x": 53,
          "y": 55.91534360737674
         },
         {
          "x": 54,
          "y": 56.36283565597553
         },
         {
          "x": 55,
          "y": 56.81032770457432
         },
         {
          "x": 56,
          "y": 57.25781975317311
         },
         {
          "x": 57,
          "y": 57.7053118017719
         },
         {
          "x": 58,
          "y": 58.15280385037069
         },
         {
          "x": 59,
          "y": 58.60029589896948
         },
         {
          "x": 60,
          "y": 59.04778794756827
         },
         {
          "x": 61,
          "y": 59.495279996167056
         },
         {
          "x": 62,
          "y": 59.942772044765846
         },
         {
          "x": 63,
          "y": 60.390264093364635
         },
         {
          "x": 64,
          "y": 60.837756141963425
         },
         {
          "x": 65,
          "y": 61.285248190562214
         },
         {
          "x": 66,
          "y": 61.732740239161004
         },
         {
          "x": 67,
          "y": 62.1802322877598
         },
         {
          "x": 68,
          "y": 62.62772433635859
         },
         {
          "x": 69,
          "y": 63.07521638495738
         },
         {
          "x": 70,
          "y": 63.52270843355617
         },
         {
          "x": 71,
          "y": 63.97020048215496
         },
         {
          "x": 72,
          "y": 64.41769253075375
         },
         {
          "x": 73,
          "y": 64.86518457935253
         },
         {
          "x": 74,
          "y": 65.31267662795133
         },
         {
          "x": 75,
          "y": 65.76016867655011
         },
         {
          "x": 76,
          "y": 66.20766072514891
         },
         {
          "x": 77,
          "y": 66.6551527737477
         },
         {
          "x": 78,
          "y": 67.10264482234649
         },
         {
          "x": 79,
          "y": 67.55013687094528
         },
         {
          "x": 80,
          "y": 67.99762891954407
         },
         {
          "x": 81,
          "y": 68.44512096814286
         },
         {
          "x": 82,
          "y": 68.89261301674165
         },
         {
          "x": 83,
          "y": 69.34010506534044
         },
         {
          "x": 84,
          "y": 69.78759711393923
         },
         {
          "x": 85,
          "y": 70.23508916253802
         },
         {
          "x": 86,
          "y": 70.6825812111368
         },
         {
          "x": 87,
          "y": 71.1300732597356
         },
         {
          "x": 88,
          "y": 71.57756530833439
         },
         {
          "x": 89,
          "y": 72.02505735693319
         },
         {
          "x": 90,
          "y": 72.47254940553196
         },
         {
          "x": 91,
          "y": 72.92004145413077
         },
         {
          "x": 92,
          "y": 73.36753350272954
         },
         {
          "x": 93,
          "y": 73.81502555132835
         },
         {
          "x": 94,
          "y": 74.26251759992712
         },
         {
          "x": 95,
          "y": 74.71000964852593
         },
         {
          "x": 96,
          "y": 75.1575016971247
         },
         {
          "x": 97,
          "y": 75.6049937457235
         },
         {
          "x": 98,
          "y": 76.05248579432228
         },
         {
          "x": 99,
          "y": 76.49997784292108
         },
         {
          "x": 100,
          "y": 76.94746989151987
         }
        ],
        "data-83105f819ff365be090485204d58d24e": [
         {
          "err": 3.5999999046325684,
          "is_outlier": false,
          "x": 0,
          "y": 33
         },
         {
          "err": 3.9000000953674316,
          "is_outlier": true,
          "x": 3,
          "y": 68
         },
         {
          "err": 2.5999999046325684,
          "is_outlier": false,
          "x": 9,
          "y": 34
         },
         {
          "err": 3.4000000953674316,
          "is_outlier": false,
          "x": 14,
          "y": 34
         },
         {
          "err": 3.799999952316284,
          "is_outlier": false,
          "x": 15,
          "y": 37
         },
         {
          "err": 3.799999952316284,
          "is_outlier": true,
          "x": 19,
          "y": 71
         },
         {
          "err": 2.200000047683716,
          "is_outlier": false,
          "x": 20,
          "y": 37
         },
         {
          "err": 2.0999999046325684,
          "is_outlier": false,
          "x": 21,
          "y": 44
         },
         {
          "err": 2.299999952316284,
          "is_outlier": false,
          "x": 30,
          "y": 48
         },
         {
          "err": 3.799999952316284,
          "is_outlier": false,
          "x": 35,
          "y": 49
         },
         {
          "err": 2.200000047683716,
          "is_outlier": false,
          "x": 40,
          "y": 53
         },
         {
          "err": 2.799999952316284,
          "is_outlier": false,
          "x": 41,
          "y": 49
         },
         {
          "err": 3.9000000953674316,
          "is_outlier": false,
          "x": 42,
          "y": 50
         },
         {
          "err": 3.0999999046325684,
          "is_outlier": false,
          "x": 43,
          "y": 48
         },
         {
          "err": 3.4000000953674316,
          "is_outlier": false,
          "x": 54,
          "y": 56
         },
         {
          "err": 2.5999999046325684,
          "is_outlier": false,
          "x": 56,
          "y": 60
         },
         {
          "err": 3.4000000953674316,
          "is_outlier": false,
          "x": 67,
          "y": 61
         },
         {
          "err": 3.700000047683716,
          "is_outlier": false,
          "x": 69,
          "y": 63
         },
         {
          "err": 2,
          "is_outlier": true,
          "x": 72,
          "y": 44
         },
         {
          "err": 3.5,
          "is_outlier": false,
          "x": 88,
          "y": 71
         }
        ]
       },
       "layer": [
        {
         "encoding": {
          "color": {
           "field": "is_outlier",
           "type": "nominal"
          },
          "x": {
           "field": "x",
           "type": "quantitative"
          },
          "y": {
           "field": "y",
           "scale": {
            "zero": false
           },
           "type": "quantitative"
          }
         },
         "mark": "circle"
        },
        {
         "encoding": {
          "color": {
           "field": "is_outlier",
           "type": "nominal"
          },
          "x": {
           "field": "x",
           "type": "quantitative"
          },
          "y": {
           "field": "y",
           "type": "quantitative"
          },
          "yError": {
           "field": "err"
          }
         },
         "mark": "errorbar"
        },
        {
         "data": {
          "name": "data-29aa9eab79c1638592a2889c6e04f20a"
         },
         "encoding": {
          "x": {
           "field": "x",
           "type": "quantitative"
          },
          "y": {
           "field": "y",
           "type": "quantitative"
          }
         },
         "mark": {
          "color": "#e15759",
          "type": "line"
         }
        }
       ]
      },
      "text/plain": [
       "<VegaLite 4 object>\n",
       "\n",
       "If you see this message, it means the renderer has not been properly enabled\n",
       "for the frontend that you are using. For more information, see\n",
       "https://altair-viz.github.io/user_guide/troubleshooting.html\n"
      ]
     },
     "execution_count": 23,
     "metadata": {},
     "output_type": "execute_result"
    }
   ],
   "source": [
    "error_bars = (\n",
    "    altair.Chart()\n",
    "    .mark_errorbar()\n",
    "    .encode(\n",
    "        altair.X(\"x\"), altair.Y(\"y\"), altair.YError(\"err\"), altair.Color(\"is_outlier\")\n",
    "    )\n",
    ")\n",
    "points = (\n",
    "    altair.Chart()\n",
    "    .mark_circle()\n",
    "    .encode(\n",
    "        altair.X(\"x\"),\n",
    "        altair.Y(\"y\", scale=altair.Scale(zero=False)),\n",
    "        altair.Color(\"is_outlier\"),\n",
    "    )\n",
    ")\n",
    "altair.layer(\n",
    "    points,\n",
    "    error_bars,\n",
    "    data=pd.DataFrame({\"x\": x, \"y\": y, \"err\": err, \"is_outlier\": prob_outlier > 0.5}),\n",
    ") + (\n",
    "    altair.Chart(\n",
    "        pd.DataFrame({\"x\": np.linspace(0, 100, 101)}).assign(\n",
    "            y=lambda df: df_params_mean[\"beta_0\"] + df_params_mean[\"beta_1\"] * df[\"x\"]\n",
    "        )\n",
    "    )\n",
    "    .mark_line(color=RED)\n",
    "    .encode(altair.X(\"x\"), altair.Y(\"y\"))\n",
    ")"
   ]
  },
  {
   "cell_type": "markdown",
   "metadata": {},
   "source": [
    "# Bean Machine"
   ]
  },
  {
   "cell_type": "code",
   "execution_count": 24,
   "metadata": {},
   "outputs": [],
   "source": [
    "@bm.random_variable\n",
    "def beta_0() -> bm.RVIdentifier:\n",
    "    return dist.Normal(0, 10)\n",
    "\n",
    "\n",
    "@bm.random_variable\n",
    "def beta_1() -> bm.RVIdentifier:\n",
    "    return dist.Normal(0, 10)\n",
    "\n",
    "\n",
    "@bm.random_variable\n",
    "def sigma_o() -> bm.RVIdentifier:\n",
    "    return dist.Gamma(1, 1)\n",
    "\n",
    "\n",
    "@bm.random_variable\n",
    "def theta() -> bm.RVIdentifier:\n",
    "    return dist.Beta(2, 5)\n",
    "\n",
    "\n",
    "@bm.functional\n",
    "def likelihood(i: int) -> float:\n",
    "    mu = beta_0() + beta_1() * x[i]\n",
    "    ll1 = torch.log(theta()) + dist.Normal(mu, sigma_o()).log_prob(y[i])\n",
    "    ll2 = torch.log(1 - theta()) + dist.Normal(mu, err[i]).log_prob(y[i])\n",
    "    return torch.logaddexp(ll1, ll2).exp()\n",
    "\n",
    "\n",
    "@bm.random_variable\n",
    "def d(i: int) -> bm.RVIdentifier:\n",
    "    return dist.Bernoulli(likelihood(i))\n"
   ]
  },
  {
   "cell_type": "code",
   "execution_count": 25,
   "metadata": {},
   "outputs": [
    {
     "data": {
      "application/vnd.vegalite.v4+json": {
       "$schema": "https://vega.github.io/schema/vega-lite/v4.17.0.json",
       "config": {
        "view": {
         "continuousHeight": 300,
         "continuousWidth": 400
        }
       },
       "data": {
        "name": "data-83c662776876e7f73b7885d740240734"
       },
       "datasets": {
        "data-83c662776876e7f73b7885d740240734": [
         {
          "p": 0,
          "theta": 0
         },
         {
          "p": 0.28817886114120483,
          "theta": 0.009999999776482582
         },
         {
          "p": 0.553420901298523,
          "theta": 0.019999999552965164
         },
         {
          "p": 0.7967636585235596,
          "theta": 0.029999999329447746
         },
         {
          "p": 1.019215703010559,
          "theta": 0.03999999910593033
         },
         {
          "p": 1.22175931930542,
          "theta": 0.05000000074505806
         },
         {
          "p": 1.4053481817245483,
          "theta": 0.05999999865889549
         },
         {
          "p": 1.5709093809127808,
          "theta": 0.07000000029802322
         },
         {
          "p": 1.7193431854248047,
          "theta": 0.07999999821186066
         },
         {
          "p": 1.8515242338180542,
          "theta": 0.08999999612569809
         },
         {
          "p": 1.9682996273040771,
          "theta": 0.10000000149011612
         },
         {
          "p": 2.0704941749572754,
          "theta": 0.10999999940395355
         },
         {
          "p": 2.1589033603668213,
          "theta": 0.11999999731779099
         },
         {
          "p": 2.234300374984741,
          "theta": 0.12999999523162842
         },
         {
          "p": 2.297433853149414,
          "theta": 0.14000000059604645
         },
         {
          "p": 2.3490288257598877,
          "theta": 0.14999999105930328
         },
         {
          "p": 2.389782667160034,
          "theta": 0.1599999964237213
         },
         {
          "p": 2.4203741550445557,
          "theta": 0.17000000178813934
         },
         {
          "p": 2.441457748413086,
          "theta": 0.17999999225139618
         },
         {
          "p": 2.4536631107330322,
          "theta": 0.1899999976158142
         },
         {
          "p": 2.4575998783111572,
          "theta": 0.20000000298023224
         },
         {
          "p": 2.453855037689209,
          "theta": 0.20999999344348907
         },
         {
          "p": 2.442993640899658,
          "theta": 0.2199999988079071
         },
         {
          "p": 2.4255592823028564,
          "theta": 0.22999998927116394
         },
         {
          "p": 2.4020767211914062,
          "theta": 0.23999999463558197
         },
         {
          "p": 2.373047113418579,
          "theta": 0.25
         },
         {
          "p": 2.3389527797698975,
          "theta": 0.25999999046325684
         },
         {
          "p": 2.300257682800293,
          "theta": 0.26999998092651367
         },
         {
          "p": 2.257404327392578,
          "theta": 0.2800000011920929
         },
         {
          "p": 2.2108170986175537,
          "theta": 0.28999999165534973
         },
         {
          "p": 2.160900354385376,
          "theta": 0.29999998211860657
         },
         {
          "p": 2.1080424785614014,
          "theta": 0.3100000023841858
         },
         {
          "p": 2.052612543106079,
          "theta": 0.3199999928474426
         },
         {
          "p": 1.9949613809585571,
          "theta": 0.32999998331069946
         },
         {
          "p": 1.9354231357574463,
          "theta": 0.3400000035762787
         },
         {
          "p": 1.8743153810501099,
          "theta": 0.3499999940395355
         },
         {
          "p": 1.811939001083374,
          "theta": 0.35999998450279236
         },
         {
          "p": 1.7485787868499756,
          "theta": 0.3700000047683716
         },
         {
          "p": 1.684502124786377,
          "theta": 0.3799999952316284
         },
         {
          "p": 1.6199636459350586,
          "theta": 0.38999998569488525
         },
         {
          "p": 1.5552003383636475,
          "theta": 0.4000000059604645
         },
         {
          "p": 1.4904354810714722,
          "theta": 0.4099999964237213
         },
         {
          "p": 1.4258784055709839,
          "theta": 0.42000001668930054
         },
         {
          "p": 1.3617240190505981,
          "theta": 0.4300000071525574
         },
         {
          "p": 1.2981536388397217,
          "theta": 0.4399999976158142
         },
         {
          "p": 1.235334038734436,
          "theta": 0.45000001788139343
         },
         {
          "p": 1.1734213829040527,
          "theta": 0.46000000834465027
         },
         {
          "p": 1.1125576496124268,
          "theta": 0.4699999988079071
         },
         {
          "p": 1.052872657775879,
          "theta": 0.47999998927116394
         },
         {
          "p": 0.9944844245910645,
          "theta": 0.4899999797344208
         },
         {
          "p": 0.9375000596046448,
          "theta": 0.5
         },
         {
          "p": 0.8820145726203918,
          "theta": 0.5099999904632568
         },
         {
          "p": 0.8281129002571106,
          "theta": 0.5199999809265137
         },
         {
          "p": 0.7758693695068359,
          "theta": 0.5299999713897705
         },
         {
          "p": 0.7253481149673462,
          "theta": 0.5399999618530273
         },
         {
          "p": 0.6766030192375183,
          "theta": 0.550000011920929
         },
         {
          "p": 0.6296801567077637,
          "theta": 0.5600000023841858
         },
         {
          "p": 0.5846149921417236,
          "theta": 0.5699999928474426
         },
         {
          "p": 0.5414351224899292,
          "theta": 0.5799999833106995
         },
         {
          "p": 0.500159740447998,
          "theta": 0.5899999737739563
         },
         {
          "p": 0.4607999622821808,
          "theta": 0.6000000238418579
         },
         {
          "p": 0.42335963249206543,
          "theta": 0.6100000143051147
         },
         {
          "p": 0.387835294008255,
          "theta": 0.6200000047683716
         },
         {
          "p": 0.35421645641326904,
          "theta": 0.6299999952316284
         },
         {
          "p": 0.32248640060424805,
          "theta": 0.6399999856948853
         },
         {
          "p": 0.2926219701766968,
          "theta": 0.6499999761581421
         },
         {
          "p": 0.26459458470344543,
          "theta": 0.6599999666213989
         },
         {
          "p": 0.23837029933929443,
          "theta": 0.6699999570846558
         },
         {
          "p": 0.21390944719314575,
          "theta": 0.6800000071525574
         },
         {
          "p": 0.19116884469985962,
          "theta": 0.6899999976158142
         },
         {
          "p": 0.17009997367858887,
          "theta": 0.699999988079071
         },
         {
          "p": 0.15065093338489532,
          "theta": 0.7099999785423279
         },
         {
          "p": 0.13276563584804535,
          "theta": 0.7200000286102295
         },
         {
          "p": 0.11638554185628891,
          "theta": 0.7300000190734863
         },
         {
          "p": 0.1014486700296402,
          "theta": 0.7400000095367432
         },
         {
          "p": 0.0878906324505806,
          "theta": 0.75
         },
         {
          "p": 0.07564487308263779,
          "theta": 0.7600000500679016
         },
         {
          "p": 0.0646432489156723,
          "theta": 0.7700000405311584
         },
         {
          "p": 0.05481588840484619,
          "theta": 0.7800000309944153
         },
         {
          "p": 0.046091996133327484,
          "theta": 0.7900000214576721
         },
         {
          "p": 0.03839999437332153,
          "theta": 0.800000011920929
         },
         {
          "p": 0.031668007373809814,
          "theta": 0.8100000023841858
         },
         {
          "p": 0.025824103504419327,
          "theta": 0.8199999928474426
         },
         {
          "p": 0.02079673856496811,
          "theta": 0.8299999833106995
         },
         {
          "p": 0.016515064984560013,
          "theta": 0.8400000333786011
         },
         {
          "p": 0.012909367680549622,
          "theta": 0.8500000238418579
         },
         {
          "p": 0.00991132203489542,
          "theta": 0.8600000143051147
         },
         {
          "p": 0.007454415783286095,
          "theta": 0.8700000047683716
         },
         {
          "p": 0.005474303383380175,
          "theta": 0.8799999952316284
         },
         {
          "p": 0.003909149207174778,
          "theta": 0.8899999856948853
         },
         {
          "p": 0.0027000010013580322,
          "theta": 0.8999999761581421
         },
         {
          "p": 0.001791156129911542,
          "theta": 0.9099999666213989
         },
         {
          "p": 0.0011304946383461356,
          "theta": 0.9200000166893005
         },
         {
          "p": 0.0006698789657093585,
          "theta": 0.9300000071525574
         },
         {
          "p": 0.00036547199124470353,
          "theta": 0.9399999976158142
         },
         {
          "p": 0.00017812513397075236,
          "theta": 0.949999988079071
         },
         {
          "p": 0.00007372819527518004,
          "theta": 0.9599999785423279
         },
         {
          "p": 0.000023570903067593463,
          "theta": 0.9700000286102295
         },
         {
          "p": 0.000004703981630882481,
          "theta": 0.9800000190734863
         },
         {
          "p": 2.969989623125002e-7,
          "theta": 0.9900000095367432
         }
        ]
       },
       "encoding": {
        "x": {
         "field": "theta",
         "type": "quantitative"
        },
        "y": {
         "field": "p",
         "type": "quantitative"
        }
       },
       "mark": "line"
      },
      "text/plain": [
       "<VegaLite 4 object>\n",
       "\n",
       "If you see this message, it means the renderer has not been properly enabled\n",
       "for the frontend that you are using. For more information, see\n",
       "https://altair-viz.github.io/user_guide/troubleshooting.html\n"
      ]
     },
     "execution_count": 25,
     "metadata": {},
     "output_type": "execute_result"
    }
   ],
   "source": [
    "altair.Chart(\n",
    "    pd.DataFrame().assign(\n",
    "        theta=torch.arange(0, 1, 0.01),\n",
    "        p=lambda df: dist.Beta(2, 5).log_prob(torch.tensor(df[\"theta\"])).exp(),\n",
    "    )\n",
    ").mark_line().encode(x=\"theta\", y=\"p\")\n"
   ]
  },
  {
   "cell_type": "code",
   "execution_count": 26,
   "metadata": {},
   "outputs": [],
   "source": [
    "queries = [beta_0(), beta_1(), sigma_o(), theta()]\n",
    "observations = {d(i): torch.tensor(1.0) for i in range(len(x))}"
   ]
  },
  {
   "cell_type": "code",
   "execution_count": 27,
   "metadata": {},
   "outputs": [],
   "source": [
    "# samples = BMGInference().infer(\n",
    "#     queries=queries,\n",
    "#     observations=observations,\n",
    "#     num_samples=4000,\n",
    "#     num_chains=4,\n",
    "# )"
   ]
  },
  {
   "cell_type": "code",
   "execution_count": 28,
   "metadata": {},
   "outputs": [
    {
     "name": "stderr",
     "output_type": "stream",
     "text": [
      "Samples collected: 100%|██████████| 8000/8000 [14:12<00:00,  9.38it/s] \n"
     ]
    }
   ],
   "source": [
    "samples = bm.GlobalNoUTurnSampler().infer(\n",
    "    queries=queries,\n",
    "    observations=observations,\n",
    "    num_samples=4000,\n",
    "    num_adaptive_samples=4000,\n",
    "    num_chains=1,\n",
    ")"
   ]
  },
  {
   "cell_type": "code",
   "execution_count": 29,
   "metadata": {},
   "outputs": [],
   "source": [
    "df_summary = (\n",
    "    bm.Diagnostics(samples)\n",
    "    .summary()\n",
    "    .set_index(pd.Series([\"beta_0\", \"beta_1\", \"sigma_o\", \"theta\"]))\n",
    ")\n"
   ]
  },
  {
   "cell_type": "code",
   "execution_count": 30,
   "metadata": {},
   "outputs": [],
   "source": [
    "df_params_mean = df_summary[\"avg\"]"
   ]
  },
  {
   "cell_type": "code",
   "execution_count": 31,
   "metadata": {},
   "outputs": [],
   "source": [
    "prob_outlier = calc_prob_outlier(\n",
    "    x,\n",
    "    y,\n",
    "    err,\n",
    "    beta_0=df_params_mean[\"beta_0\"],\n",
    "    beta_1=df_params_mean[\"beta_1\"],\n",
    "    theta=df_params_mean[\"theta\"],\n",
    "    sigma_o=df_params_mean[\"sigma_o\"],\n",
    ")"
   ]
  },
  {
   "cell_type": "code",
   "execution_count": 32,
   "metadata": {},
   "outputs": [
    {
     "data": {
      "application/vnd.vegalite.v4+json": {
       "$schema": "https://vega.github.io/schema/vega-lite/v4.17.0.json",
       "config": {
        "view": {
         "continuousHeight": 300,
         "continuousWidth": 400
        }
       },
       "data": {
        "name": "data-83105f819ff365be090485204d58d24e"
       },
       "datasets": {
        "data-83105f819ff365be090485204d58d24e": [
         {
          "err": 3.5999999046325684,
          "is_outlier": false,
          "x": 0,
          "y": 33
         },
         {
          "err": 3.9000000953674316,
          "is_outlier": true,
          "x": 3,
          "y": 68
         },
         {
          "err": 2.5999999046325684,
          "is_outlier": false,
          "x": 9,
          "y": 34
         },
         {
          "err": 3.4000000953674316,
          "is_outlier": false,
          "x": 14,
          "y": 34
         },
         {
          "err": 3.799999952316284,
          "is_outlier": false,
          "x": 15,
          "y": 37
         },
         {
          "err": 3.799999952316284,
          "is_outlier": true,
          "x": 19,
          "y": 71
         },
         {
          "err": 2.200000047683716,
          "is_outlier": false,
          "x": 20,
          "y": 37
         },
         {
          "err": 2.0999999046325684,
          "is_outlier": false,
          "x": 21,
          "y": 44
         },
         {
          "err": 2.299999952316284,
          "is_outlier": false,
          "x": 30,
          "y": 48
         },
         {
          "err": 3.799999952316284,
          "is_outlier": false,
          "x": 35,
          "y": 49
         },
         {
          "err": 2.200000047683716,
          "is_outlier": false,
          "x": 40,
          "y": 53
         },
         {
          "err": 2.799999952316284,
          "is_outlier": false,
          "x": 41,
          "y": 49
         },
         {
          "err": 3.9000000953674316,
          "is_outlier": false,
          "x": 42,
          "y": 50
         },
         {
          "err": 3.0999999046325684,
          "is_outlier": false,
          "x": 43,
          "y": 48
         },
         {
          "err": 3.4000000953674316,
          "is_outlier": false,
          "x": 54,
          "y": 56
         },
         {
          "err": 2.5999999046325684,
          "is_outlier": false,
          "x": 56,
          "y": 60
         },
         {
          "err": 3.4000000953674316,
          "is_outlier": false,
          "x": 67,
          "y": 61
         },
         {
          "err": 3.700000047683716,
          "is_outlier": false,
          "x": 69,
          "y": 63
         },
         {
          "err": 2,
          "is_outlier": true,
          "x": 72,
          "y": 44
         },
         {
          "err": 3.5,
          "is_outlier": false,
          "x": 88,
          "y": 71
         }
        ],
        "data-fd18a2a968284bed0110b396df72bfd1": [
         {
          "x": 0,
          "y": 31.498619079589844
         },
         {
          "x": 1,
          "y": 31.961390137672424
         },
         {
          "x": 2,
          "y": 32.424161195755005
         },
         {
          "x": 3,
          "y": 32.886932253837585
         },
         {
          "x": 4,
          "y": 33.349703311920166
         },
         {
          "x": 5,
          "y": 33.81247437000275
         },
         {
          "x": 6,
          "y": 34.27524542808533
         },
         {
          "x": 7,
          "y": 34.73801648616791
         },
         {
          "x": 8,
          "y": 35.20078754425049
         },
         {
          "x": 9,
          "y": 35.66355860233307
         },
         {
          "x": 10,
          "y": 36.12632966041565
         },
         {
          "x": 11,
          "y": 36.58910071849823
         },
         {
          "x": 12,
          "y": 37.05187177658081
         },
         {
          "x": 13,
          "y": 37.51464283466339
         },
         {
          "x": 14,
          "y": 37.97741389274597
         },
         {
          "x": 15,
          "y": 38.44018495082855
         },
         {
          "x": 16,
          "y": 38.90295600891113
         },
         {
          "x": 17,
          "y": 39.36572706699371
         },
         {
          "x": 18,
          "y": 39.828498125076294
         },
         {
          "x": 19,
          "y": 40.291269183158875
         },
         {
          "x": 20,
          "y": 40.754040241241455
         },
         {
          "x": 21,
          "y": 41.216811299324036
         },
         {
          "x": 22,
          "y": 41.679582357406616
         },
         {
          "x": 23,
          "y": 42.1423534154892
         },
         {
          "x": 24,
          "y": 42.60512447357178
         },
         {
          "x": 25,
          "y": 43.06789553165436
         },
         {
          "x": 26,
          "y": 43.53066658973694
         },
         {
          "x": 27,
          "y": 43.99343764781952
         },
         {
          "x": 28,
          "y": 44.4562087059021
         },
         {
          "x": 29,
          "y": 44.91897976398468
         },
         {
          "x": 30,
          "y": 45.38175082206726
         },
         {
          "x": 31,
          "y": 45.84452188014984
         },
         {
          "x": 32,
          "y": 46.30729293823242
         },
         {
          "x": 33,
          "y": 46.770063996315
         },
         {
          "x": 34,
          "y": 47.23283505439758
         },
         {
          "x": 35,
          "y": 47.695606112480164
         },
         {
          "x": 36,
          "y": 48.158377170562744
         },
         {
          "x": 37,
          "y": 48.621148228645325
         },
         {
          "x": 38,
          "y": 49.083919286727905
         },
         {
          "x": 39,
          "y": 49.546690344810486
         },
         {
          "x": 40,
          "y": 50.009461402893066
         },
         {
          "x": 41,
          "y": 50.47223246097565
         },
         {
          "x": 42,
          "y": 50.93500351905823
         },
         {
          "x": 43,
          "y": 51.39777457714081
         },
         {
          "x": 44,
          "y": 51.86054563522339
         },
         {
          "x": 45,
          "y": 52.32331669330597
         },
         {
          "x": 46,
          "y": 52.78608775138855
         },
         {
          "x": 47,
          "y": 53.24885880947113
         },
         {
          "x": 48,
          "y": 53.71162986755371
         },
         {
          "x": 49,
          "y": 54.17440092563629
         },
         {
          "x": 50,
          "y": 54.63717198371887
         },
         {
          "x": 51,
          "y": 55.09994304180145
         },
         {
          "x": 52,
          "y": 55.56271409988403
         },
         {
          "x": 53,
          "y": 56.025485157966614
         },
         {
          "x": 54,
          "y": 56.488256216049194
         },
         {
          "x": 55,
          "y": 56.951027274131775
         },
         {
          "x": 56,
          "y": 57.413798332214355
         },
         {
          "x": 57,
          "y": 57.876569390296936
         },
         {
          "x": 58,
          "y": 58.33934044837952
         },
         {
          "x": 59,
          "y": 58.8021115064621
         },
         {
          "x": 60,
          "y": 59.26488256454468
         },
         {
          "x": 61,
          "y": 59.72765362262726
         },
         {
          "x": 62,
          "y": 60.19042468070984
         },
         {
          "x": 63,
          "y": 60.65319573879242
         },
         {
          "x": 64,
          "y": 61.115966796875
         },
         {
          "x": 65,
          "y": 61.57873785495758
         },
         {
          "x": 66,
          "y": 62.04150891304016
         },
         {
          "x": 67,
          "y": 62.50427997112274
         },
         {
          "x": 68,
          "y": 62.96705102920532
         },
         {
          "x": 69,
          "y": 63.4298220872879
         },
         {
          "x": 70,
          "y": 63.89259314537048
         },
         {
          "x": 71,
          "y": 64.35536420345306
         },
         {
          "x": 72,
          "y": 64.81813526153564
         },
         {
          "x": 73,
          "y": 65.28090631961823
         },
         {
          "x": 74,
          "y": 65.7436773777008
         },
         {
          "x": 75,
          "y": 66.20644843578339
         },
         {
          "x": 76,
          "y": 66.66921949386597
         },
         {
          "x": 77,
          "y": 67.13199055194855
         },
         {
          "x": 78,
          "y": 67.59476161003113
         },
         {
          "x": 79,
          "y": 68.05753266811371
         },
         {
          "x": 80,
          "y": 68.52030372619629
         },
         {
          "x": 81,
          "y": 68.98307478427887
         },
         {
          "x": 82,
          "y": 69.44584584236145
         },
         {
          "x": 83,
          "y": 69.90861690044403
         },
         {
          "x": 84,
          "y": 70.37138795852661
         },
         {
          "x": 85,
          "y": 70.83415901660919
         },
         {
          "x": 86,
          "y": 71.29693007469177
         },
         {
          "x": 87,
          "y": 71.75970113277435
         },
         {
          "x": 88,
          "y": 72.22247219085693
         },
         {
          "x": 89,
          "y": 72.68524324893951
         },
         {
          "x": 90,
          "y": 73.1480143070221
         },
         {
          "x": 91,
          "y": 73.61078536510468
         },
         {
          "x": 92,
          "y": 74.07355642318726
         },
         {
          "x": 93,
          "y": 74.53632748126984
         },
         {
          "x": 94,
          "y": 74.99909853935242
         },
         {
          "x": 95,
          "y": 75.461869597435
         },
         {
          "x": 96,
          "y": 75.92464065551758
         },
         {
          "x": 97,
          "y": 76.38741171360016
         },
         {
          "x": 98,
          "y": 76.85018277168274
         },
         {
          "x": 99,
          "y": 77.31295382976532
         },
         {
          "x": 100,
          "y": 77.7757248878479
         }
        ]
       },
       "layer": [
        {
         "encoding": {
          "color": {
           "field": "is_outlier",
           "type": "nominal"
          },
          "x": {
           "field": "x",
           "type": "quantitative"
          },
          "y": {
           "field": "y",
           "scale": {
            "zero": false
           },
           "type": "quantitative"
          }
         },
         "mark": "circle"
        },
        {
         "encoding": {
          "color": {
           "field": "is_outlier",
           "type": "nominal"
          },
          "x": {
           "field": "x",
           "type": "quantitative"
          },
          "y": {
           "field": "y",
           "type": "quantitative"
          },
          "yError": {
           "field": "err"
          }
         },
         "mark": "errorbar"
        },
        {
         "data": {
          "name": "data-fd18a2a968284bed0110b396df72bfd1"
         },
         "encoding": {
          "x": {
           "field": "x",
           "type": "quantitative"
          },
          "y": {
           "field": "y",
           "type": "quantitative"
          }
         },
         "mark": {
          "color": "#e15759",
          "type": "line"
         }
        }
       ]
      },
      "text/plain": [
       "<VegaLite 4 object>\n",
       "\n",
       "If you see this message, it means the renderer has not been properly enabled\n",
       "for the frontend that you are using. For more information, see\n",
       "https://altair-viz.github.io/user_guide/troubleshooting.html\n"
      ]
     },
     "execution_count": 32,
     "metadata": {},
     "output_type": "execute_result"
    }
   ],
   "source": [
    "error_bars = (\n",
    "    altair.Chart()\n",
    "    .mark_errorbar()\n",
    "    .encode(\n",
    "        altair.X(\"x\"), altair.Y(\"y\"), altair.YError(\"err\"), altair.Color(\"is_outlier\")\n",
    "    )\n",
    ")\n",
    "points = (\n",
    "    altair.Chart()\n",
    "    .mark_circle()\n",
    "    .encode(\n",
    "        altair.X(\"x\"),\n",
    "        altair.Y(\"y\", scale=altair.Scale(zero=False)),\n",
    "        altair.Color(\"is_outlier\"),\n",
    "    )\n",
    ")\n",
    "altair.layer(\n",
    "    points,\n",
    "    error_bars,\n",
    "    data=pd.DataFrame({\"x\": x, \"y\": y, \"err\": err, \"is_outlier\": prob_outlier > 0.5}),\n",
    ") + (\n",
    "    altair.Chart(\n",
    "        pd.DataFrame({\"x\": np.linspace(0, 100, 101)}).assign(\n",
    "            y=lambda df: samples.get_variable(beta_0()).squeeze().mean().item()\n",
    "            + samples.get_variable(beta_1()).squeeze().mean().item() * df[\"x\"]\n",
    "        )\n",
    "    )\n",
    "    .mark_line(color=RED)\n",
    "    .encode(altair.X(\"x\"), altair.Y(\"y\"))\n",
    ")\n"
   ]
  },
  {
   "cell_type": "code",
   "execution_count": null,
   "metadata": {},
   "outputs": [],
   "source": []
  }
 ],
 "metadata": {
  "interpreter": {
   "hash": "3d2ca491e92607d77156843c86e2071aef014ecb450759d6dfdf762a056e2829"
  },
  "kernelspec": {
   "display_name": "Python 3.9.10 ('python-bean-machine': venv)",
   "language": "python",
   "name": "python3"
  },
  "language_info": {
   "codemirror_mode": {
    "name": "ipython",
    "version": 3
   },
   "file_extension": ".py",
   "mimetype": "text/x-python",
   "name": "python",
   "nbconvert_exporter": "python",
   "pygments_lexer": "ipython3",
   "version": "3.9.10"
  },
  "orig_nbformat": 4
 },
 "nbformat": 4,
 "nbformat_minor": 2
}
