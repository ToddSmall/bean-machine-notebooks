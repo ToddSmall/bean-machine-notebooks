{
 "cells": [
  {
   "cell_type": "code",
   "execution_count": 1,
   "metadata": {},
   "outputs": [
    {
     "name": "stdout",
     "output_type": "stream",
     "text": [
      "Sun Feb 27 18:07:25 PST 2022\n"
     ]
    }
   ],
   "source": [
    "!date"
   ]
  },
  {
   "cell_type": "code",
   "execution_count": 2,
   "metadata": {},
   "outputs": [],
   "source": [
    "import altair\n",
    "import beanmachine.ppl as bm\n",
    "import numpy as np\n",
    "import pandas as pd\n",
    "import torch\n",
    "import torch.distributions as dist"
   ]
  },
  {
   "cell_type": "code",
   "execution_count": 29,
   "metadata": {},
   "outputs": [],
   "source": [
    "BLUE = \"#4e79a7\"\n",
    "ORANGE = \"#f28e2b\"\n",
    "RED = \"#e15759\"\n",
    "CYAN = \"#76b7b2\"\n",
    "GREEN = \"#59a14f\"\n",
    "YELLOW = \"#edc948\"\n",
    "PURPLE = \"#b07aa1\"\n",
    "PINK = \"#ff9da7\"\n",
    "BROWN = \"#9c755f\"\n",
    "GRAY = \"#bab0ac\""
   ]
  },
  {
   "cell_type": "code",
   "execution_count": 3,
   "metadata": {},
   "outputs": [],
   "source": [
    "x = torch.tensor(\n",
    "    [0, 3, 9, 14, 15, 19, 20, 21, 30, 35, 40, 41, 42, 43, 54, 56, 67, 69, 72, 88],\n",
    "    dtype=torch.float32,\n",
    ")\n",
    "y = torch.tensor(\n",
    "    [33, 68, 34, 34, 37, 71, 37, 44, 48, 49, 53, 49, 50, 48, 56, 60, 61, 63, 44, 71],\n",
    "    dtype=torch.float32,\n",
    ")\n",
    "err = torch.tensor(\n",
    "    [\n",
    "        3.6,\n",
    "        3.9,\n",
    "        2.6,\n",
    "        3.4,\n",
    "        3.8,\n",
    "        3.8,\n",
    "        2.2,\n",
    "        2.1,\n",
    "        2.3,\n",
    "        3.8,\n",
    "        2.2,\n",
    "        2.8,\n",
    "        3.9,\n",
    "        3.1,\n",
    "        3.4,\n",
    "        2.6,\n",
    "        3.4,\n",
    "        3.7,\n",
    "        2.0,\n",
    "        3.5,\n",
    "    ]\n",
    ")\n"
   ]
  },
  {
   "cell_type": "code",
   "execution_count": 31,
   "metadata": {},
   "outputs": [
    {
     "data": {
      "text/html": [
       "\n",
       "<div id=\"altair-viz-ea3e70efa5614964849104ae58c07fb2\"></div>\n",
       "<script type=\"text/javascript\">\n",
       "  var VEGA_DEBUG = (typeof VEGA_DEBUG == \"undefined\") ? {} : VEGA_DEBUG;\n",
       "  (function(spec, embedOpt){\n",
       "    let outputDiv = document.currentScript.previousElementSibling;\n",
       "    if (outputDiv.id !== \"altair-viz-ea3e70efa5614964849104ae58c07fb2\") {\n",
       "      outputDiv = document.getElementById(\"altair-viz-ea3e70efa5614964849104ae58c07fb2\");\n",
       "    }\n",
       "    const paths = {\n",
       "      \"vega\": \"https://cdn.jsdelivr.net/npm//vega@5?noext\",\n",
       "      \"vega-lib\": \"https://cdn.jsdelivr.net/npm//vega-lib?noext\",\n",
       "      \"vega-lite\": \"https://cdn.jsdelivr.net/npm//vega-lite@4.17.0?noext\",\n",
       "      \"vega-embed\": \"https://cdn.jsdelivr.net/npm//vega-embed@6?noext\",\n",
       "    };\n",
       "\n",
       "    function maybeLoadScript(lib, version) {\n",
       "      var key = `${lib.replace(\"-\", \"\")}_version`;\n",
       "      return (VEGA_DEBUG[key] == version) ?\n",
       "        Promise.resolve(paths[lib]) :\n",
       "        new Promise(function(resolve, reject) {\n",
       "          var s = document.createElement('script');\n",
       "          document.getElementsByTagName(\"head\")[0].appendChild(s);\n",
       "          s.async = true;\n",
       "          s.onload = () => {\n",
       "            VEGA_DEBUG[key] = version;\n",
       "            return resolve(paths[lib]);\n",
       "          };\n",
       "          s.onerror = () => reject(`Error loading script: ${paths[lib]}`);\n",
       "          s.src = paths[lib];\n",
       "        });\n",
       "    }\n",
       "\n",
       "    function showError(err) {\n",
       "      outputDiv.innerHTML = `<div class=\"error\" style=\"color:red;\">${err}</div>`;\n",
       "      throw err;\n",
       "    }\n",
       "\n",
       "    function displayChart(vegaEmbed) {\n",
       "      vegaEmbed(outputDiv, spec, embedOpt)\n",
       "        .catch(err => showError(`Javascript Error: ${err.message}<br>This usually means there's a typo in your chart specification. See the javascript console for the full traceback.`));\n",
       "    }\n",
       "\n",
       "    if(typeof define === \"function\" && define.amd) {\n",
       "      requirejs.config({paths});\n",
       "      require([\"vega-embed\"], displayChart, err => showError(`Error loading script: ${err.message}`));\n",
       "    } else {\n",
       "      maybeLoadScript(\"vega\", \"5\")\n",
       "        .then(() => maybeLoadScript(\"vega-lite\", \"4.17.0\"))\n",
       "        .then(() => maybeLoadScript(\"vega-embed\", \"6\"))\n",
       "        .catch(showError)\n",
       "        .then(() => displayChart(vegaEmbed));\n",
       "    }\n",
       "  })({\"config\": {\"view\": {\"continuousWidth\": 400, \"continuousHeight\": 300}}, \"layer\": [{\"mark\": {\"type\": \"circle\", \"color\": \"#4e79a7\"}, \"encoding\": {\"x\": {\"field\": \"x\", \"type\": \"quantitative\"}, \"y\": {\"field\": \"y\", \"scale\": {\"zero\": false}, \"type\": \"quantitative\"}}}, {\"mark\": {\"type\": \"errorbar\", \"color\": \"#4e79a7\"}, \"encoding\": {\"x\": {\"field\": \"x\", \"type\": \"quantitative\"}, \"y\": {\"field\": \"y\", \"type\": \"quantitative\"}, \"yError\": {\"field\": \"err\"}}}], \"data\": {\"name\": \"data-f3d943561f3e17e4f3ee5f1e4a597fcc\"}, \"$schema\": \"https://vega.github.io/schema/vega-lite/v4.17.0.json\", \"datasets\": {\"data-f3d943561f3e17e4f3ee5f1e4a597fcc\": [{\"x\": 0.0, \"y\": 33.0, \"err\": 3.5999999046325684}, {\"x\": 3.0, \"y\": 68.0, \"err\": 3.9000000953674316}, {\"x\": 9.0, \"y\": 34.0, \"err\": 2.5999999046325684}, {\"x\": 14.0, \"y\": 34.0, \"err\": 3.4000000953674316}, {\"x\": 15.0, \"y\": 37.0, \"err\": 3.799999952316284}, {\"x\": 19.0, \"y\": 71.0, \"err\": 3.799999952316284}, {\"x\": 20.0, \"y\": 37.0, \"err\": 2.200000047683716}, {\"x\": 21.0, \"y\": 44.0, \"err\": 2.0999999046325684}, {\"x\": 30.0, \"y\": 48.0, \"err\": 2.299999952316284}, {\"x\": 35.0, \"y\": 49.0, \"err\": 3.799999952316284}, {\"x\": 40.0, \"y\": 53.0, \"err\": 2.200000047683716}, {\"x\": 41.0, \"y\": 49.0, \"err\": 2.799999952316284}, {\"x\": 42.0, \"y\": 50.0, \"err\": 3.9000000953674316}, {\"x\": 43.0, \"y\": 48.0, \"err\": 3.0999999046325684}, {\"x\": 54.0, \"y\": 56.0, \"err\": 3.4000000953674316}, {\"x\": 56.0, \"y\": 60.0, \"err\": 2.5999999046325684}, {\"x\": 67.0, \"y\": 61.0, \"err\": 3.4000000953674316}, {\"x\": 69.0, \"y\": 63.0, \"err\": 3.700000047683716}, {\"x\": 72.0, \"y\": 44.0, \"err\": 2.0}, {\"x\": 88.0, \"y\": 71.0, \"err\": 3.5}]}}, {\"mode\": \"vega-lite\"});\n",
       "</script>"
      ],
      "text/plain": [
       "alt.LayerChart(...)"
      ]
     },
     "execution_count": 31,
     "metadata": {},
     "output_type": "execute_result"
    }
   ],
   "source": [
    "error_bars = (\n",
    "    altair.Chart()\n",
    "    .mark_errorbar(color=BLUE)\n",
    "    .encode(altair.X(\"x\"), altair.Y(\"y\"), altair.YError(\"err\"))\n",
    ")\n",
    "points = (\n",
    "    altair.Chart()\n",
    "    .mark_circle(color=BLUE)\n",
    "    .encode(x=altair.X(\"x\"), y=altair.Y(\"y\", scale=altair.Scale(zero=False)))\n",
    ")\n",
    "altair.layer(points, error_bars, data=pd.DataFrame({\"x\": x, \"y\": y, \"err\": err}))\n"
   ]
  },
  {
   "cell_type": "code",
   "execution_count": 5,
   "metadata": {},
   "outputs": [],
   "source": [
    "@bm.random_variable\n",
    "def beta_0() -> bm.RVIdentifier:\n",
    "    return dist.Normal(0, 10)\n",
    "\n",
    "\n",
    "@bm.random_variable\n",
    "def beta_1() -> bm.RVIdentifier:\n",
    "    return dist.Normal(0, 10)\n",
    "\n",
    "\n",
    "@bm.random_variable\n",
    "def sigma_o() -> bm.RVIdentifier:\n",
    "    return dist.Gamma(1, 1)\n",
    "\n",
    "\n",
    "@bm.random_variable\n",
    "def theta() -> bm.RVIdentifier:\n",
    "    return dist.Beta(2, 5)\n",
    "\n",
    "\n",
    "@bm.functional\n",
    "def likelihood(i: int) -> float:\n",
    "    mu = beta_0() + beta_1() * x[i]\n",
    "    ll1 = torch.log(theta()) + dist.Normal(mu, sigma_o()).log_prob(y[i])\n",
    "    ll2 = torch.log(1 - theta()) + dist.Normal(mu, err[i]).log_prob(y[i])\n",
    "    return torch.logaddexp(ll1, ll2).exp()\n",
    "\n",
    "\n",
    "@bm.random_variable\n",
    "def d(i: int) -> bm.RVIdentifier:\n",
    "    return dist.Bernoulli(likelihood(i))\n"
   ]
  },
  {
   "cell_type": "markdown",
   "metadata": {},
   "source": [
    "```\n",
    "for (n in 1:N) {\n",
    "  target += log_sum_exp(log(lambda)\n",
    "                          + normal_lpdf(y[n] | mu[1], sigma[1]),\n",
    "                        log1m(lambda)\n",
    "                          + normal_lpdf(y[n] | mu[2], sigma[2]));\n",
    "}\n",
    "```"
   ]
  },
  {
   "cell_type": "code",
   "execution_count": 6,
   "metadata": {},
   "outputs": [
    {
     "data": {
      "text/html": [
       "\n",
       "<div id=\"altair-viz-b7d9201da8ba4260903685d2d2d56484\"></div>\n",
       "<script type=\"text/javascript\">\n",
       "  var VEGA_DEBUG = (typeof VEGA_DEBUG == \"undefined\") ? {} : VEGA_DEBUG;\n",
       "  (function(spec, embedOpt){\n",
       "    let outputDiv = document.currentScript.previousElementSibling;\n",
       "    if (outputDiv.id !== \"altair-viz-b7d9201da8ba4260903685d2d2d56484\") {\n",
       "      outputDiv = document.getElementById(\"altair-viz-b7d9201da8ba4260903685d2d2d56484\");\n",
       "    }\n",
       "    const paths = {\n",
       "      \"vega\": \"https://cdn.jsdelivr.net/npm//vega@5?noext\",\n",
       "      \"vega-lib\": \"https://cdn.jsdelivr.net/npm//vega-lib?noext\",\n",
       "      \"vega-lite\": \"https://cdn.jsdelivr.net/npm//vega-lite@4.17.0?noext\",\n",
       "      \"vega-embed\": \"https://cdn.jsdelivr.net/npm//vega-embed@6?noext\",\n",
       "    };\n",
       "\n",
       "    function maybeLoadScript(lib, version) {\n",
       "      var key = `${lib.replace(\"-\", \"\")}_version`;\n",
       "      return (VEGA_DEBUG[key] == version) ?\n",
       "        Promise.resolve(paths[lib]) :\n",
       "        new Promise(function(resolve, reject) {\n",
       "          var s = document.createElement('script');\n",
       "          document.getElementsByTagName(\"head\")[0].appendChild(s);\n",
       "          s.async = true;\n",
       "          s.onload = () => {\n",
       "            VEGA_DEBUG[key] = version;\n",
       "            return resolve(paths[lib]);\n",
       "          };\n",
       "          s.onerror = () => reject(`Error loading script: ${paths[lib]}`);\n",
       "          s.src = paths[lib];\n",
       "        });\n",
       "    }\n",
       "\n",
       "    function showError(err) {\n",
       "      outputDiv.innerHTML = `<div class=\"error\" style=\"color:red;\">${err}</div>`;\n",
       "      throw err;\n",
       "    }\n",
       "\n",
       "    function displayChart(vegaEmbed) {\n",
       "      vegaEmbed(outputDiv, spec, embedOpt)\n",
       "        .catch(err => showError(`Javascript Error: ${err.message}<br>This usually means there's a typo in your chart specification. See the javascript console for the full traceback.`));\n",
       "    }\n",
       "\n",
       "    if(typeof define === \"function\" && define.amd) {\n",
       "      requirejs.config({paths});\n",
       "      require([\"vega-embed\"], displayChart, err => showError(`Error loading script: ${err.message}`));\n",
       "    } else {\n",
       "      maybeLoadScript(\"vega\", \"5\")\n",
       "        .then(() => maybeLoadScript(\"vega-lite\", \"4.17.0\"))\n",
       "        .then(() => maybeLoadScript(\"vega-embed\", \"6\"))\n",
       "        .catch(showError)\n",
       "        .then(() => displayChart(vegaEmbed));\n",
       "    }\n",
       "  })({\"config\": {\"view\": {\"continuousWidth\": 400, \"continuousHeight\": 300}}, \"data\": {\"name\": \"data-83c662776876e7f73b7885d740240734\"}, \"mark\": \"line\", \"encoding\": {\"x\": {\"field\": \"theta\", \"type\": \"quantitative\"}, \"y\": {\"field\": \"p\", \"type\": \"quantitative\"}}, \"$schema\": \"https://vega.github.io/schema/vega-lite/v4.17.0.json\", \"datasets\": {\"data-83c662776876e7f73b7885d740240734\": [{\"theta\": 0.0, \"p\": 0.0}, {\"theta\": 0.009999999776482582, \"p\": 0.28817886114120483}, {\"theta\": 0.019999999552965164, \"p\": 0.553420901298523}, {\"theta\": 0.029999999329447746, \"p\": 0.7967636585235596}, {\"theta\": 0.03999999910593033, \"p\": 1.019215703010559}, {\"theta\": 0.05000000074505806, \"p\": 1.22175931930542}, {\"theta\": 0.05999999865889549, \"p\": 1.4053481817245483}, {\"theta\": 0.07000000029802322, \"p\": 1.5709093809127808}, {\"theta\": 0.07999999821186066, \"p\": 1.7193431854248047}, {\"theta\": 0.08999999612569809, \"p\": 1.8515242338180542}, {\"theta\": 0.10000000149011612, \"p\": 1.9682996273040771}, {\"theta\": 0.10999999940395355, \"p\": 2.0704941749572754}, {\"theta\": 0.11999999731779099, \"p\": 2.1589033603668213}, {\"theta\": 0.12999999523162842, \"p\": 2.234300374984741}, {\"theta\": 0.14000000059604645, \"p\": 2.297433853149414}, {\"theta\": 0.14999999105930328, \"p\": 2.3490288257598877}, {\"theta\": 0.1599999964237213, \"p\": 2.389782667160034}, {\"theta\": 0.17000000178813934, \"p\": 2.4203741550445557}, {\"theta\": 0.17999999225139618, \"p\": 2.441457748413086}, {\"theta\": 0.1899999976158142, \"p\": 2.4536631107330322}, {\"theta\": 0.20000000298023224, \"p\": 2.4575998783111572}, {\"theta\": 0.20999999344348907, \"p\": 2.453855037689209}, {\"theta\": 0.2199999988079071, \"p\": 2.442993640899658}, {\"theta\": 0.22999998927116394, \"p\": 2.4255592823028564}, {\"theta\": 0.23999999463558197, \"p\": 2.4020767211914062}, {\"theta\": 0.25, \"p\": 2.373047113418579}, {\"theta\": 0.25999999046325684, \"p\": 2.3389527797698975}, {\"theta\": 0.26999998092651367, \"p\": 2.300257682800293}, {\"theta\": 0.2800000011920929, \"p\": 2.257404327392578}, {\"theta\": 0.28999999165534973, \"p\": 2.2108170986175537}, {\"theta\": 0.29999998211860657, \"p\": 2.160900354385376}, {\"theta\": 0.3100000023841858, \"p\": 2.1080424785614014}, {\"theta\": 0.3199999928474426, \"p\": 2.052612543106079}, {\"theta\": 0.32999998331069946, \"p\": 1.9949613809585571}, {\"theta\": 0.3400000035762787, \"p\": 1.9354231357574463}, {\"theta\": 0.3499999940395355, \"p\": 1.8743153810501099}, {\"theta\": 0.35999998450279236, \"p\": 1.811939001083374}, {\"theta\": 0.3700000047683716, \"p\": 1.7485787868499756}, {\"theta\": 0.3799999952316284, \"p\": 1.684502124786377}, {\"theta\": 0.38999998569488525, \"p\": 1.6199636459350586}, {\"theta\": 0.4000000059604645, \"p\": 1.5552003383636475}, {\"theta\": 0.4099999964237213, \"p\": 1.4904354810714722}, {\"theta\": 0.42000001668930054, \"p\": 1.4258784055709839}, {\"theta\": 0.4300000071525574, \"p\": 1.3617240190505981}, {\"theta\": 0.4399999976158142, \"p\": 1.2981536388397217}, {\"theta\": 0.45000001788139343, \"p\": 1.235334038734436}, {\"theta\": 0.46000000834465027, \"p\": 1.1734213829040527}, {\"theta\": 0.4699999988079071, \"p\": 1.1125576496124268}, {\"theta\": 0.47999998927116394, \"p\": 1.052872657775879}, {\"theta\": 0.4899999797344208, \"p\": 0.9944844245910645}, {\"theta\": 0.5, \"p\": 0.9375000596046448}, {\"theta\": 0.5099999904632568, \"p\": 0.8820145726203918}, {\"theta\": 0.5199999809265137, \"p\": 0.8281129002571106}, {\"theta\": 0.5299999713897705, \"p\": 0.7758693695068359}, {\"theta\": 0.5399999618530273, \"p\": 0.7253481149673462}, {\"theta\": 0.550000011920929, \"p\": 0.6766030192375183}, {\"theta\": 0.5600000023841858, \"p\": 0.6296801567077637}, {\"theta\": 0.5699999928474426, \"p\": 0.5846149921417236}, {\"theta\": 0.5799999833106995, \"p\": 0.5414351224899292}, {\"theta\": 0.5899999737739563, \"p\": 0.500159740447998}, {\"theta\": 0.6000000238418579, \"p\": 0.4607999622821808}, {\"theta\": 0.6100000143051147, \"p\": 0.42335963249206543}, {\"theta\": 0.6200000047683716, \"p\": 0.387835294008255}, {\"theta\": 0.6299999952316284, \"p\": 0.35421645641326904}, {\"theta\": 0.6399999856948853, \"p\": 0.32248640060424805}, {\"theta\": 0.6499999761581421, \"p\": 0.2926219701766968}, {\"theta\": 0.6599999666213989, \"p\": 0.26459458470344543}, {\"theta\": 0.6699999570846558, \"p\": 0.23837029933929443}, {\"theta\": 0.6800000071525574, \"p\": 0.21390944719314575}, {\"theta\": 0.6899999976158142, \"p\": 0.19116884469985962}, {\"theta\": 0.699999988079071, \"p\": 0.17009997367858887}, {\"theta\": 0.7099999785423279, \"p\": 0.15065093338489532}, {\"theta\": 0.7200000286102295, \"p\": 0.13276563584804535}, {\"theta\": 0.7300000190734863, \"p\": 0.11638554185628891}, {\"theta\": 0.7400000095367432, \"p\": 0.1014486700296402}, {\"theta\": 0.75, \"p\": 0.0878906324505806}, {\"theta\": 0.7600000500679016, \"p\": 0.07564487308263779}, {\"theta\": 0.7700000405311584, \"p\": 0.0646432489156723}, {\"theta\": 0.7800000309944153, \"p\": 0.05481588840484619}, {\"theta\": 0.7900000214576721, \"p\": 0.046091996133327484}, {\"theta\": 0.800000011920929, \"p\": 0.03839999437332153}, {\"theta\": 0.8100000023841858, \"p\": 0.031668007373809814}, {\"theta\": 0.8199999928474426, \"p\": 0.025824103504419327}, {\"theta\": 0.8299999833106995, \"p\": 0.02079673856496811}, {\"theta\": 0.8400000333786011, \"p\": 0.016515064984560013}, {\"theta\": 0.8500000238418579, \"p\": 0.012909367680549622}, {\"theta\": 0.8600000143051147, \"p\": 0.00991132203489542}, {\"theta\": 0.8700000047683716, \"p\": 0.007454415783286095}, {\"theta\": 0.8799999952316284, \"p\": 0.005474303383380175}, {\"theta\": 0.8899999856948853, \"p\": 0.003909149207174778}, {\"theta\": 0.8999999761581421, \"p\": 0.0027000010013580322}, {\"theta\": 0.9099999666213989, \"p\": 0.001791156129911542}, {\"theta\": 0.9200000166893005, \"p\": 0.0011304946383461356}, {\"theta\": 0.9300000071525574, \"p\": 0.0006698789657093585}, {\"theta\": 0.9399999976158142, \"p\": 0.00036547199124470353}, {\"theta\": 0.949999988079071, \"p\": 0.00017812513397075236}, {\"theta\": 0.9599999785423279, \"p\": 7.372819527518004e-05}, {\"theta\": 0.9700000286102295, \"p\": 2.3570903067593463e-05}, {\"theta\": 0.9800000190734863, \"p\": 4.703981630882481e-06}, {\"theta\": 0.9900000095367432, \"p\": 2.969989623125002e-07}]}}, {\"mode\": \"vega-lite\"});\n",
       "</script>"
      ],
      "text/plain": [
       "alt.Chart(...)"
      ]
     },
     "execution_count": 6,
     "metadata": {},
     "output_type": "execute_result"
    }
   ],
   "source": [
    "altair.Chart(\n",
    "    pd.DataFrame().assign(\n",
    "        theta=torch.arange(0, 1, 0.01),\n",
    "        p=lambda df: dist.Beta(2, 5).log_prob(torch.tensor(df[\"theta\"])).exp(),\n",
    "    )\n",
    ").mark_line().encode(x=\"theta\", y=\"p\")\n"
   ]
  },
  {
   "cell_type": "code",
   "execution_count": 7,
   "metadata": {},
   "outputs": [],
   "source": [
    "queries = [beta_0(), beta_1(), sigma_o(), theta()]\n",
    "observations = {d(i): torch.tensor(1.0) for i in range(len(x))}"
   ]
  },
  {
   "cell_type": "code",
   "execution_count": 8,
   "metadata": {},
   "outputs": [
    {
     "name": "stderr",
     "output_type": "stream",
     "text": [
      "Samples collected: 100%|██████████| 8000/8000 [53:42<00:00,  2.48it/s]     \n"
     ]
    }
   ],
   "source": [
    "samples = bm.GlobalNoUTurnSampler().infer(\n",
    "    queries=queries,\n",
    "    observations=observations,\n",
    "    num_samples=4000,\n",
    "    num_adaptive_samples=4000,\n",
    "    num_chains=1,\n",
    ")"
   ]
  },
  {
   "cell_type": "code",
   "execution_count": 9,
   "metadata": {},
   "outputs": [
    {
     "data": {
      "text/html": [
       "<div>\n",
       "<style scoped>\n",
       "    .dataframe tbody tr th:only-of-type {\n",
       "        vertical-align: middle;\n",
       "    }\n",
       "\n",
       "    .dataframe tbody tr th {\n",
       "        vertical-align: top;\n",
       "    }\n",
       "\n",
       "    .dataframe thead th {\n",
       "        text-align: right;\n",
       "    }\n",
       "</style>\n",
       "<table border=\"1\" class=\"dataframe\">\n",
       "  <thead>\n",
       "    <tr style=\"text-align: right;\">\n",
       "      <th></th>\n",
       "      <th>avg</th>\n",
       "      <th>std</th>\n",
       "      <th>2.5%</th>\n",
       "      <th>50%</th>\n",
       "      <th>97.5%</th>\n",
       "      <th>n_eff</th>\n",
       "    </tr>\n",
       "  </thead>\n",
       "  <tbody>\n",
       "    <tr>\n",
       "      <th>beta_0()[]</th>\n",
       "      <td>31.532238</td>\n",
       "      <td>1.700976</td>\n",
       "      <td>28.297164</td>\n",
       "      <td>31.525530</td>\n",
       "      <td>34.900478</td>\n",
       "      <td>1761.174072</td>\n",
       "    </tr>\n",
       "    <tr>\n",
       "      <th>beta_1()[]</th>\n",
       "      <td>0.462220</td>\n",
       "      <td>0.039588</td>\n",
       "      <td>0.382067</td>\n",
       "      <td>0.462829</td>\n",
       "      <td>0.538872</td>\n",
       "      <td>1697.758179</td>\n",
       "    </tr>\n",
       "    <tr>\n",
       "      <th>sigma_o()[]</th>\n",
       "      <td>12.869358</td>\n",
       "      <td>2.022978</td>\n",
       "      <td>9.426688</td>\n",
       "      <td>12.718417</td>\n",
       "      <td>17.258504</td>\n",
       "      <td>2320.917480</td>\n",
       "    </tr>\n",
       "    <tr>\n",
       "      <th>theta()[]</th>\n",
       "      <td>0.270068</td>\n",
       "      <td>0.106900</td>\n",
       "      <td>0.095128</td>\n",
       "      <td>0.260704</td>\n",
       "      <td>0.509922</td>\n",
       "      <td>2611.940674</td>\n",
       "    </tr>\n",
       "  </tbody>\n",
       "</table>\n",
       "</div>"
      ],
      "text/plain": [
       "                   avg       std       2.5%        50%      97.5%        n_eff\n",
       "beta_0()[]   31.532238  1.700976  28.297164  31.525530  34.900478  1761.174072\n",
       "beta_1()[]    0.462220  0.039588   0.382067   0.462829   0.538872  1697.758179\n",
       "sigma_o()[]  12.869358  2.022978   9.426688  12.718417  17.258504  2320.917480\n",
       "theta()[]     0.270068  0.106900   0.095128   0.260704   0.509922  2611.940674"
      ]
     },
     "execution_count": 9,
     "metadata": {},
     "output_type": "execute_result"
    }
   ],
   "source": [
    "bm.Diagnostics(samples).summary()"
   ]
  },
  {
   "cell_type": "code",
   "execution_count": 33,
   "metadata": {},
   "outputs": [],
   "source": [
    "mu = 31.5 + 0.5 * x\n",
    "z1 = dist.Normal(mu, err).log_prob(y).exp() * 0.73\n",
    "z2 = dist.Normal(mu, 12.9).log_prob(y).exp() * 0.27"
   ]
  },
  {
   "cell_type": "code",
   "execution_count": 34,
   "metadata": {},
   "outputs": [],
   "source": [
    "p_outlier = z2 / (z1 + z2)"
   ]
  },
  {
   "cell_type": "code",
   "execution_count": 35,
   "metadata": {},
   "outputs": [
    {
     "data": {
      "text/plain": [
       "tensor([0.1006, 1.0000, 0.0901, 0.1805, 0.1100, 1.0000, 0.3247, 0.0856, 0.0749,\n",
       "        0.0982, 0.0733, 0.1218, 0.1188, 0.2324, 0.1114, 0.0705, 0.1566, 0.1254,\n",
       "        1.0000, 0.1775])"
      ]
     },
     "execution_count": 35,
     "metadata": {},
     "output_type": "execute_result"
    }
   ],
   "source": [
    "p_outlier"
   ]
  },
  {
   "cell_type": "code",
   "execution_count": 36,
   "metadata": {},
   "outputs": [
    {
     "data": {
      "text/html": [
       "\n",
       "<div id=\"altair-viz-cf268a43f7ea4e448b36183d1f68c949\"></div>\n",
       "<script type=\"text/javascript\">\n",
       "  var VEGA_DEBUG = (typeof VEGA_DEBUG == \"undefined\") ? {} : VEGA_DEBUG;\n",
       "  (function(spec, embedOpt){\n",
       "    let outputDiv = document.currentScript.previousElementSibling;\n",
       "    if (outputDiv.id !== \"altair-viz-cf268a43f7ea4e448b36183d1f68c949\") {\n",
       "      outputDiv = document.getElementById(\"altair-viz-cf268a43f7ea4e448b36183d1f68c949\");\n",
       "    }\n",
       "    const paths = {\n",
       "      \"vega\": \"https://cdn.jsdelivr.net/npm//vega@5?noext\",\n",
       "      \"vega-lib\": \"https://cdn.jsdelivr.net/npm//vega-lib?noext\",\n",
       "      \"vega-lite\": \"https://cdn.jsdelivr.net/npm//vega-lite@4.17.0?noext\",\n",
       "      \"vega-embed\": \"https://cdn.jsdelivr.net/npm//vega-embed@6?noext\",\n",
       "    };\n",
       "\n",
       "    function maybeLoadScript(lib, version) {\n",
       "      var key = `${lib.replace(\"-\", \"\")}_version`;\n",
       "      return (VEGA_DEBUG[key] == version) ?\n",
       "        Promise.resolve(paths[lib]) :\n",
       "        new Promise(function(resolve, reject) {\n",
       "          var s = document.createElement('script');\n",
       "          document.getElementsByTagName(\"head\")[0].appendChild(s);\n",
       "          s.async = true;\n",
       "          s.onload = () => {\n",
       "            VEGA_DEBUG[key] = version;\n",
       "            return resolve(paths[lib]);\n",
       "          };\n",
       "          s.onerror = () => reject(`Error loading script: ${paths[lib]}`);\n",
       "          s.src = paths[lib];\n",
       "        });\n",
       "    }\n",
       "\n",
       "    function showError(err) {\n",
       "      outputDiv.innerHTML = `<div class=\"error\" style=\"color:red;\">${err}</div>`;\n",
       "      throw err;\n",
       "    }\n",
       "\n",
       "    function displayChart(vegaEmbed) {\n",
       "      vegaEmbed(outputDiv, spec, embedOpt)\n",
       "        .catch(err => showError(`Javascript Error: ${err.message}<br>This usually means there's a typo in your chart specification. See the javascript console for the full traceback.`));\n",
       "    }\n",
       "\n",
       "    if(typeof define === \"function\" && define.amd) {\n",
       "      requirejs.config({paths});\n",
       "      require([\"vega-embed\"], displayChart, err => showError(`Error loading script: ${err.message}`));\n",
       "    } else {\n",
       "      maybeLoadScript(\"vega\", \"5\")\n",
       "        .then(() => maybeLoadScript(\"vega-lite\", \"4.17.0\"))\n",
       "        .then(() => maybeLoadScript(\"vega-embed\", \"6\"))\n",
       "        .catch(showError)\n",
       "        .then(() => displayChart(vegaEmbed));\n",
       "    }\n",
       "  })({\"config\": {\"view\": {\"continuousWidth\": 400, \"continuousHeight\": 300}}, \"layer\": [{\"mark\": \"circle\", \"encoding\": {\"color\": {\"field\": \"is_outlier\", \"type\": \"nominal\"}, \"x\": {\"field\": \"x\", \"type\": \"quantitative\"}, \"y\": {\"field\": \"y\", \"scale\": {\"zero\": false}, \"type\": \"quantitative\"}}}, {\"mark\": \"errorbar\", \"encoding\": {\"color\": {\"field\": \"is_outlier\", \"type\": \"nominal\"}, \"x\": {\"field\": \"x\", \"type\": \"quantitative\"}, \"y\": {\"field\": \"y\", \"type\": \"quantitative\"}, \"yError\": {\"field\": \"err\"}}}], \"data\": {\"name\": \"data-83105f819ff365be090485204d58d24e\"}, \"$schema\": \"https://vega.github.io/schema/vega-lite/v4.17.0.json\", \"datasets\": {\"data-83105f819ff365be090485204d58d24e\": [{\"x\": 0.0, \"y\": 33.0, \"err\": 3.5999999046325684, \"is_outlier\": false}, {\"x\": 3.0, \"y\": 68.0, \"err\": 3.9000000953674316, \"is_outlier\": true}, {\"x\": 9.0, \"y\": 34.0, \"err\": 2.5999999046325684, \"is_outlier\": false}, {\"x\": 14.0, \"y\": 34.0, \"err\": 3.4000000953674316, \"is_outlier\": false}, {\"x\": 15.0, \"y\": 37.0, \"err\": 3.799999952316284, \"is_outlier\": false}, {\"x\": 19.0, \"y\": 71.0, \"err\": 3.799999952316284, \"is_outlier\": true}, {\"x\": 20.0, \"y\": 37.0, \"err\": 2.200000047683716, \"is_outlier\": false}, {\"x\": 21.0, \"y\": 44.0, \"err\": 2.0999999046325684, \"is_outlier\": false}, {\"x\": 30.0, \"y\": 48.0, \"err\": 2.299999952316284, \"is_outlier\": false}, {\"x\": 35.0, \"y\": 49.0, \"err\": 3.799999952316284, \"is_outlier\": false}, {\"x\": 40.0, \"y\": 53.0, \"err\": 2.200000047683716, \"is_outlier\": false}, {\"x\": 41.0, \"y\": 49.0, \"err\": 2.799999952316284, \"is_outlier\": false}, {\"x\": 42.0, \"y\": 50.0, \"err\": 3.9000000953674316, \"is_outlier\": false}, {\"x\": 43.0, \"y\": 48.0, \"err\": 3.0999999046325684, \"is_outlier\": false}, {\"x\": 54.0, \"y\": 56.0, \"err\": 3.4000000953674316, \"is_outlier\": false}, {\"x\": 56.0, \"y\": 60.0, \"err\": 2.5999999046325684, \"is_outlier\": false}, {\"x\": 67.0, \"y\": 61.0, \"err\": 3.4000000953674316, \"is_outlier\": false}, {\"x\": 69.0, \"y\": 63.0, \"err\": 3.700000047683716, \"is_outlier\": false}, {\"x\": 72.0, \"y\": 44.0, \"err\": 2.0, \"is_outlier\": true}, {\"x\": 88.0, \"y\": 71.0, \"err\": 3.5, \"is_outlier\": false}]}}, {\"mode\": \"vega-lite\"});\n",
       "</script>"
      ],
      "text/plain": [
       "alt.LayerChart(...)"
      ]
     },
     "execution_count": 36,
     "metadata": {},
     "output_type": "execute_result"
    }
   ],
   "source": [
    "error_bars = (\n",
    "    altair.Chart()\n",
    "    .mark_errorbar()\n",
    "    .encode(\n",
    "        altair.X(\"x\"), altair.Y(\"y\"), altair.YError(\"err\"), altair.Color(\"is_outlier\")\n",
    "    )\n",
    ")\n",
    "points = (\n",
    "    altair.Chart()\n",
    "    .mark_circle()\n",
    "    .encode(\n",
    "        altair.X(\"x\"),\n",
    "        altair.Y(\"y\", scale=altair.Scale(zero=False)),\n",
    "        altair.Color(\"is_outlier\"),\n",
    "    )\n",
    ")\n",
    "altair.layer(\n",
    "    points,\n",
    "    error_bars,\n",
    "    data=pd.DataFrame({\"x\": x, \"y\": y, \"err\": err, \"is_outlier\": p_outlier > 0.5}),\n",
    ")\n"
   ]
  },
  {
   "cell_type": "code",
   "execution_count": null,
   "metadata": {},
   "outputs": [],
   "source": []
  }
 ],
 "metadata": {
  "interpreter": {
   "hash": "3d2ca491e92607d77156843c86e2071aef014ecb450759d6dfdf762a056e2829"
  },
  "kernelspec": {
   "display_name": "Python 3.9.10 ('python-bean-machine': venv)",
   "language": "python",
   "name": "python3"
  },
  "language_info": {
   "codemirror_mode": {
    "name": "ipython",
    "version": 3
   },
   "file_extension": ".py",
   "mimetype": "text/x-python",
   "name": "python",
   "nbconvert_exporter": "python",
   "pygments_lexer": "ipython3",
   "version": "3.9.10"
  },
  "orig_nbformat": 4
 },
 "nbformat": 4,
 "nbformat_minor": 2
}
